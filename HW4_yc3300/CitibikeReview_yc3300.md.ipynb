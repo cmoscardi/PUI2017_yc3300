## This is a review of Ian's Citibike Project
{
 "cells": [
  {
   "cell_type": "markdown",
   "metadata": {},
   "source": [
    "## a. verify that their Null and alternative hypotheses are formulated correctly\n",
    " \n",
    "Ian's null hypothesis sounds reasonable, and the alternate hypothesis corresponds correctly to the null hypothesis. But in order to keep synchronization,maybe the null hypothesis should also include information(measurements) like in seconds. \n",
    "His topic is overall very general, more specific information like whether it's weekdays or weekends could be added, or male subscriber and female subscriber. \n",
    "\n",
    "## b. verify that the data supports the project: i.e. if the a data has the appropriate features (variables) to answer the question, and if the data was properly pre-processed to extract the needed values (there is some flexibility here since the test was not chosen yet)\n",
    "\n",
    "The data was has the appropriate features to answer the question (duration time and gender)\n",
    "\n",
    "## c. chose an appropriate test to test H0 given the type of data, and the question asked.\n",
    " +\n",
    "This is a question of comparing two unknown sample means, therefore I will consider Z-test or t-test. In Ian's answer, he already used Z-test to answer the hypothesis. His solution is clear and reasonable. "
   ]
  }
 ],
 "metadata": {
  "kernelspec": {
   "display_name": "PUI2016_Python2",
   "language": "python",
   "name": "pui2016_python2"
  },
  "language_info": {
   "codemirror_mode": {
    "name": "ipython",
    "version": 2
   },
   "file_extension": ".py",
   "mimetype": "text/x-python",
   "name": "python",
   "nbconvert_exporter": "python",
   "pygments_lexer": "ipython2",
   "version": "2.7.12"
  }
 },
 "nbformat": 4,
 "nbformat_minor": 0
}
