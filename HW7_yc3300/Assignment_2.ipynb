{
 "cells": [
  {
   "cell_type": "code",
   "execution_count": 12,
   "metadata": {
    "collapsed": false
   },
   "outputs": [],
   "source": [
    "SQL_SOURCE = 'https://yc3300.carto.com/api/v2/sql?q='\n",
    "\n",
    "import urllib2\n",
    "import urllib\n",
    "import StringIO\n",
    "import ast\n",
    "import pandas as pd\n",
    "\n",
    "def queryCartoDB(query, format='CSV', source=SQL_SOURCE):\n",
    "    '''queries carto datasets from a given carto account\n",
    "    Arguments: \n",
    "    query - string: a valid sql query string\n",
    "    format - outlut format  OPTIONAL (default CSV)\n",
    "    source - a valid sql api endpoint OPTIONAL (default carto fb55 account)\n",
    "    Returns:\n",
    "    the return of the sql query AS A STRING\n",
    "    NOTES:\n",
    "    designed for the carto API, tested only with CSV return format'''\n",
    "    \n",
    "    data = urllib.urlencode({'format': format, 'q': query})\n",
    "    try:\n",
    "        response = urllib2.urlopen(source, data)\n",
    "    except urllib2.HTTPError, e:\n",
    "        raise ValueError('\\n'.join(ast.literal_eval(e.readline())['error']))\n",
    "    except Exception:\n",
    "        raise\n",
    "    return response.read()"
   ]
  },
  {
   "cell_type": "markdown",
   "metadata": {},
   "source": [
    "## Task 1 — Familiarize with SQL Clauses\n",
    "• Sort data by start_station_id, tripduration                 \n",
    "- Only checking trips with duration <= 3 hours\n",
    "• Only show the top/last 10 records (aka head and tail in SQL)               \n",
    "• List all unique start_station_id values         \n",
    "• Aggregation functions:                \n",
    "- Count the number of trips (aka wc -l in SQL)\n",
    "- Find the average/min/max trip duration"
   ]
  },
  {
   "cell_type": "code",
   "execution_count": 52,
   "metadata": {
    "collapsed": true
   },
   "outputs": [],
   "source": [
    "task1 = '''\n",
    "SELECT DISTINCT start_station_id, \n",
    "COUNT(start_station_id) AS trip_counts, \n",
    "AVG(tripduration) AS ave_tripduration,\n",
    "MIN(tripduration) AS min_tripduration,\n",
    "MAX(tripduration) AS max_tripduration\n",
    "FROM citibike\n",
    "WHERE tripduration<=10800\n",
    "GROUP BY start_station_id\n",
    "ORDER BY start_station_id DESC, ave_tripduration DESC\n",
    "LIMIT 10\n",
    "'''"
   ]
  },
  {
   "cell_type": "code",
   "execution_count": 53,
   "metadata": {
    "collapsed": false
   },
   "outputs": [
    {
     "data": {
      "text/html": [
       "<div>\n",
       "<table border=\"1\" class=\"dataframe\">\n",
       "  <thead>\n",
       "    <tr style=\"text-align: right;\">\n",
       "      <th></th>\n",
       "      <th>start_station_id</th>\n",
       "      <th>trip_counts</th>\n",
       "      <th>ave_tripduration</th>\n",
       "      <th>min_tripduration</th>\n",
       "      <th>max_tripduration</th>\n",
       "    </tr>\n",
       "  </thead>\n",
       "  <tbody>\n",
       "    <tr>\n",
       "      <th>0</th>\n",
       "      <td>3002</td>\n",
       "      <td>184</td>\n",
       "      <td>714.646739</td>\n",
       "      <td>79</td>\n",
       "      <td>7225</td>\n",
       "    </tr>\n",
       "    <tr>\n",
       "      <th>1</th>\n",
       "      <td>2023</td>\n",
       "      <td>91</td>\n",
       "      <td>771.978022</td>\n",
       "      <td>108</td>\n",
       "      <td>2454</td>\n",
       "    </tr>\n",
       "    <tr>\n",
       "      <th>2</th>\n",
       "      <td>2022</td>\n",
       "      <td>96</td>\n",
       "      <td>979.062500</td>\n",
       "      <td>107</td>\n",
       "      <td>2495</td>\n",
       "    </tr>\n",
       "    <tr>\n",
       "      <th>3</th>\n",
       "      <td>2021</td>\n",
       "      <td>141</td>\n",
       "      <td>738.815603</td>\n",
       "      <td>90</td>\n",
       "      <td>6592</td>\n",
       "    </tr>\n",
       "    <tr>\n",
       "      <th>4</th>\n",
       "      <td>2017</td>\n",
       "      <td>86</td>\n",
       "      <td>763.383721</td>\n",
       "      <td>109</td>\n",
       "      <td>2476</td>\n",
       "    </tr>\n",
       "    <tr>\n",
       "      <th>5</th>\n",
       "      <td>2012</td>\n",
       "      <td>256</td>\n",
       "      <td>714.519531</td>\n",
       "      <td>79</td>\n",
       "      <td>2026</td>\n",
       "    </tr>\n",
       "    <tr>\n",
       "      <th>6</th>\n",
       "      <td>2010</td>\n",
       "      <td>76</td>\n",
       "      <td>763.184211</td>\n",
       "      <td>167</td>\n",
       "      <td>2610</td>\n",
       "    </tr>\n",
       "    <tr>\n",
       "      <th>7</th>\n",
       "      <td>2009</td>\n",
       "      <td>107</td>\n",
       "      <td>777.794393</td>\n",
       "      <td>60</td>\n",
       "      <td>2765</td>\n",
       "    </tr>\n",
       "    <tr>\n",
       "      <th>8</th>\n",
       "      <td>2008</td>\n",
       "      <td>86</td>\n",
       "      <td>832.220930</td>\n",
       "      <td>94</td>\n",
       "      <td>3476</td>\n",
       "    </tr>\n",
       "    <tr>\n",
       "      <th>9</th>\n",
       "      <td>2006</td>\n",
       "      <td>79</td>\n",
       "      <td>1130.531646</td>\n",
       "      <td>90</td>\n",
       "      <td>3459</td>\n",
       "    </tr>\n",
       "  </tbody>\n",
       "</table>\n",
       "</div>"
      ],
      "text/plain": [
       "   start_station_id  trip_counts  ave_tripduration  min_tripduration  \\\n",
       "0              3002          184        714.646739                79   \n",
       "1              2023           91        771.978022               108   \n",
       "2              2022           96        979.062500               107   \n",
       "3              2021          141        738.815603                90   \n",
       "4              2017           86        763.383721               109   \n",
       "5              2012          256        714.519531                79   \n",
       "6              2010           76        763.184211               167   \n",
       "7              2009          107        777.794393                60   \n",
       "8              2008           86        832.220930                94   \n",
       "9              2006           79       1130.531646                90   \n",
       "\n",
       "   max_tripduration  \n",
       "0              7225  \n",
       "1              2454  \n",
       "2              2495  \n",
       "3              6592  \n",
       "4              2476  \n",
       "5              2026  \n",
       "6              2610  \n",
       "7              2765  \n",
       "8              3476  \n",
       "9              3459  "
      ]
     },
     "execution_count": 53,
     "metadata": {},
     "output_type": "execute_result"
    }
   ],
   "source": [
    "pd.read_csv(StringIO.StringIO(queryCartoDB(task1)), sep=',')"
   ]
  },
  {
   "cell_type": "markdown",
   "metadata": {
    "collapsed": true
   },
   "source": [
    "## Task 2 — Working with date/time\n",
    "• Selecting trips started on Feb-02-2015 only                                    \n",
    "• Selecting trips started on the weekends \n",
    "    -What are average trip duration during weekends?            \n",
    "• Can we do the same for weekday?"
   ]
  },
  {
   "cell_type": "code",
   "execution_count": 70,
   "metadata": {
    "collapsed": true
   },
   "outputs": [],
   "source": [
    "task2_1 = '''\n",
    "SELECT gender, birth_year, end_station_id, start_station_id,tripduration,usertype, stoptime, starttime FROM citibike \n",
    "WHERE starttime >= '2015-02-02 00:00'\n",
    "AND starttime < '2015-02-03 00:00'\n",
    "ORDER BY starttime DESC\n",
    "LIMIT 10\n",
    "'''"
   ]
  },
  {
   "cell_type": "code",
   "execution_count": 71,
   "metadata": {
    "collapsed": false
   },
   "outputs": [
    {
     "data": {
      "text/html": [
       "<div>\n",
       "<table border=\"1\" class=\"dataframe\">\n",
       "  <thead>\n",
       "    <tr style=\"text-align: right;\">\n",
       "      <th></th>\n",
       "      <th>gender</th>\n",
       "      <th>birth_year</th>\n",
       "      <th>end_station_id</th>\n",
       "      <th>start_station_id</th>\n",
       "      <th>tripduration</th>\n",
       "      <th>usertype</th>\n",
       "      <th>stoptime</th>\n",
       "      <th>starttime</th>\n",
       "    </tr>\n",
       "  </thead>\n",
       "  <tbody>\n",
       "    <tr>\n",
       "      <th>0</th>\n",
       "      <td>2</td>\n",
       "      <td>1976</td>\n",
       "      <td>302</td>\n",
       "      <td>285</td>\n",
       "      <td>733</td>\n",
       "      <td>Subscriber</td>\n",
       "      <td>2015-02-03 00:10:00+00</td>\n",
       "      <td>2015-02-02 23:58:00+00</td>\n",
       "    </tr>\n",
       "    <tr>\n",
       "      <th>1</th>\n",
       "      <td>1</td>\n",
       "      <td>1961</td>\n",
       "      <td>537</td>\n",
       "      <td>453</td>\n",
       "      <td>634</td>\n",
       "      <td>Subscriber</td>\n",
       "      <td>2015-02-03 00:05:00+00</td>\n",
       "      <td>2015-02-02 23:55:00+00</td>\n",
       "    </tr>\n",
       "    <tr>\n",
       "      <th>2</th>\n",
       "      <td>1</td>\n",
       "      <td>1988</td>\n",
       "      <td>394</td>\n",
       "      <td>345</td>\n",
       "      <td>689</td>\n",
       "      <td>Subscriber</td>\n",
       "      <td>2015-02-03 00:02:00+00</td>\n",
       "      <td>2015-02-02 23:50:00+00</td>\n",
       "    </tr>\n",
       "    <tr>\n",
       "      <th>3</th>\n",
       "      <td>1</td>\n",
       "      <td>1988</td>\n",
       "      <td>417</td>\n",
       "      <td>224</td>\n",
       "      <td>188</td>\n",
       "      <td>Subscriber</td>\n",
       "      <td>2015-02-02 23:50:00+00</td>\n",
       "      <td>2015-02-02 23:47:00+00</td>\n",
       "    </tr>\n",
       "    <tr>\n",
       "      <th>4</th>\n",
       "      <td>1</td>\n",
       "      <td>1977</td>\n",
       "      <td>440</td>\n",
       "      <td>484</td>\n",
       "      <td>371</td>\n",
       "      <td>Subscriber</td>\n",
       "      <td>2015-02-02 23:52:00+00</td>\n",
       "      <td>2015-02-02 23:45:00+00</td>\n",
       "    </tr>\n",
       "    <tr>\n",
       "      <th>5</th>\n",
       "      <td>1</td>\n",
       "      <td>1979</td>\n",
       "      <td>397</td>\n",
       "      <td>496</td>\n",
       "      <td>2111</td>\n",
       "      <td>Subscriber</td>\n",
       "      <td>2015-02-03 00:18:00+00</td>\n",
       "      <td>2015-02-02 23:43:00+00</td>\n",
       "    </tr>\n",
       "    <tr>\n",
       "      <th>6</th>\n",
       "      <td>1</td>\n",
       "      <td>1983</td>\n",
       "      <td>439</td>\n",
       "      <td>280</td>\n",
       "      <td>518</td>\n",
       "      <td>Subscriber</td>\n",
       "      <td>2015-02-02 23:52:00+00</td>\n",
       "      <td>2015-02-02 23:43:00+00</td>\n",
       "    </tr>\n",
       "    <tr>\n",
       "      <th>7</th>\n",
       "      <td>2</td>\n",
       "      <td>1982</td>\n",
       "      <td>489</td>\n",
       "      <td>505</td>\n",
       "      <td>813</td>\n",
       "      <td>Subscriber</td>\n",
       "      <td>2015-02-02 23:56:00+00</td>\n",
       "      <td>2015-02-02 23:42:00+00</td>\n",
       "    </tr>\n",
       "    <tr>\n",
       "      <th>8</th>\n",
       "      <td>1</td>\n",
       "      <td>1987</td>\n",
       "      <td>507</td>\n",
       "      <td>509</td>\n",
       "      <td>764</td>\n",
       "      <td>Subscriber</td>\n",
       "      <td>2015-02-02 23:55:00+00</td>\n",
       "      <td>2015-02-02 23:42:00+00</td>\n",
       "    </tr>\n",
       "    <tr>\n",
       "      <th>9</th>\n",
       "      <td>1</td>\n",
       "      <td>1986</td>\n",
       "      <td>368</td>\n",
       "      <td>402</td>\n",
       "      <td>560</td>\n",
       "      <td>Subscriber</td>\n",
       "      <td>2015-02-02 23:46:00+00</td>\n",
       "      <td>2015-02-02 23:37:00+00</td>\n",
       "    </tr>\n",
       "  </tbody>\n",
       "</table>\n",
       "</div>"
      ],
      "text/plain": [
       "   gender  birth_year  end_station_id  start_station_id  tripduration  \\\n",
       "0       2        1976             302               285           733   \n",
       "1       1        1961             537               453           634   \n",
       "2       1        1988             394               345           689   \n",
       "3       1        1988             417               224           188   \n",
       "4       1        1977             440               484           371   \n",
       "5       1        1979             397               496          2111   \n",
       "6       1        1983             439               280           518   \n",
       "7       2        1982             489               505           813   \n",
       "8       1        1987             507               509           764   \n",
       "9       1        1986             368               402           560   \n",
       "\n",
       "     usertype                stoptime               starttime  \n",
       "0  Subscriber  2015-02-03 00:10:00+00  2015-02-02 23:58:00+00  \n",
       "1  Subscriber  2015-02-03 00:05:00+00  2015-02-02 23:55:00+00  \n",
       "2  Subscriber  2015-02-03 00:02:00+00  2015-02-02 23:50:00+00  \n",
       "3  Subscriber  2015-02-02 23:50:00+00  2015-02-02 23:47:00+00  \n",
       "4  Subscriber  2015-02-02 23:52:00+00  2015-02-02 23:45:00+00  \n",
       "5  Subscriber  2015-02-03 00:18:00+00  2015-02-02 23:43:00+00  \n",
       "6  Subscriber  2015-02-02 23:52:00+00  2015-02-02 23:43:00+00  \n",
       "7  Subscriber  2015-02-02 23:56:00+00  2015-02-02 23:42:00+00  \n",
       "8  Subscriber  2015-02-02 23:55:00+00  2015-02-02 23:42:00+00  \n",
       "9  Subscriber  2015-02-02 23:46:00+00  2015-02-02 23:37:00+00  "
      ]
     },
     "execution_count": 71,
     "metadata": {},
     "output_type": "execute_result"
    }
   ],
   "source": [
    "pd.read_csv(StringIO.StringIO(queryCartoDB(task2_1)), sep=',')"
   ]
  },
  {
   "cell_type": "code",
   "execution_count": 98,
   "metadata": {
    "collapsed": false
   },
   "outputs": [],
   "source": [
    "task2_2 = '''\n",
    "SELECT EXTRACT(DOW FROM starttime) AS date_of_week,\n",
    "AVG(tripduration) AS ave_tripduration \n",
    "FROM citibike \n",
    "WHERE extract(DOW FROM starttime) IN (0,6)\n",
    "GROUP BY date_of_week\n",
    "ORDER BY ave_tripduration DESC\n",
    "LIMIT 10\n",
    "'''"
   ]
  },
  {
   "cell_type": "code",
   "execution_count": 99,
   "metadata": {
    "collapsed": false
   },
   "outputs": [
    {
     "data": {
      "text/html": [
       "<div>\n",
       "<table border=\"1\" class=\"dataframe\">\n",
       "  <thead>\n",
       "    <tr style=\"text-align: right;\">\n",
       "      <th></th>\n",
       "      <th>date_of_week</th>\n",
       "      <th>ave_tripduration</th>\n",
       "    </tr>\n",
       "  </thead>\n",
       "  <tbody>\n",
       "    <tr>\n",
       "      <th>0</th>\n",
       "      <td>6</td>\n",
       "      <td>686.460825</td>\n",
       "    </tr>\n",
       "    <tr>\n",
       "      <th>1</th>\n",
       "      <td>0</td>\n",
       "      <td>638.149200</td>\n",
       "    </tr>\n",
       "  </tbody>\n",
       "</table>\n",
       "</div>"
      ],
      "text/plain": [
       "   date_of_week  ave_tripduration\n",
       "0             6        686.460825\n",
       "1             0        638.149200"
      ]
     },
     "execution_count": 99,
     "metadata": {},
     "output_type": "execute_result"
    }
   ],
   "source": [
    "pd.read_csv(StringIO.StringIO(queryCartoDB(task2_2)), sep=',')"
   ]
  },
  {
   "cell_type": "code",
   "execution_count": 102,
   "metadata": {
    "collapsed": true
   },
   "outputs": [],
   "source": [
    "task2_3 = '''\n",
    "SELECT EXTRACT(DOW FROM starttime) AS date_of_week,\n",
    "AVG(tripduration) AS ave_tripduration \n",
    "FROM citibike \n",
    "WHERE extract(DOW FROM starttime) NOT IN (0,6)\n",
    "GROUP BY date_of_week\n",
    "ORDER BY ave_tripduration DESC\n",
    "LIMIT 10\n",
    "'''"
   ]
  },
  {
   "cell_type": "code",
   "execution_count": 103,
   "metadata": {
    "collapsed": false
   },
   "outputs": [
    {
     "data": {
      "text/html": [
       "<div>\n",
       "<table border=\"1\" class=\"dataframe\">\n",
       "  <thead>\n",
       "    <tr style=\"text-align: right;\">\n",
       "      <th></th>\n",
       "      <th>date_of_week</th>\n",
       "      <th>ave_tripduration</th>\n",
       "    </tr>\n",
       "  </thead>\n",
       "  <tbody>\n",
       "    <tr>\n",
       "      <th>0</th>\n",
       "      <td>1</td>\n",
       "      <td>920.862234</td>\n",
       "    </tr>\n",
       "    <tr>\n",
       "      <th>1</th>\n",
       "      <td>2</td>\n",
       "      <td>767.224443</td>\n",
       "    </tr>\n",
       "    <tr>\n",
       "      <th>2</th>\n",
       "      <td>3</td>\n",
       "      <td>697.556559</td>\n",
       "    </tr>\n",
       "    <tr>\n",
       "      <th>3</th>\n",
       "      <td>5</td>\n",
       "      <td>637.116968</td>\n",
       "    </tr>\n",
       "    <tr>\n",
       "      <th>4</th>\n",
       "      <td>4</td>\n",
       "      <td>623.396720</td>\n",
       "    </tr>\n",
       "  </tbody>\n",
       "</table>\n",
       "</div>"
      ],
      "text/plain": [
       "   date_of_week  ave_tripduration\n",
       "0             1        920.862234\n",
       "1             2        767.224443\n",
       "2             3        697.556559\n",
       "3             5        637.116968\n",
       "4             4        623.396720"
      ]
     },
     "execution_count": 103,
     "metadata": {},
     "output_type": "execute_result"
    }
   ],
   "source": [
    "pd.read_csv(StringIO.StringIO(queryCartoDB(task2_3)), sep=',')"
   ]
  },
  {
   "cell_type": "markdown",
   "metadata": {
    "collapsed": true
   },
   "source": [
    "## Task 3 — Working with Space\n",
    "• Showing the list of start station locations \n",
    "- Using GROUP BY\n",
    "• Showing the number of trips started per station        \n",
    "• … but only for stations within 500m of Time Square!\n",
    "- The coordinates of Time Square is (40.7577,-73.9857)"
   ]
  },
  {
   "cell_type": "code",
   "execution_count": 105,
   "metadata": {
    "collapsed": false
   },
   "outputs": [
    {
     "ename": "SyntaxError",
     "evalue": "EOF while scanning triple-quoted string literal (<ipython-input-105-b4380ee2f30b>, line 6)",
     "output_type": "error",
     "traceback": [
      "\u001b[0;36m  File \u001b[0;32m\"<ipython-input-105-b4380ee2f30b>\"\u001b[0;36m, line \u001b[0;32m6\u001b[0m\n\u001b[0;31m    ,,,\u001b[0m\n\u001b[0m       \n^\u001b[0m\n\u001b[0;31mSyntaxError\u001b[0m\u001b[0;31m:\u001b[0m EOF while scanning triple-quoted string literal\n"
     ]
    }
   ],
   "source": [
    "task3_1 = '''\n",
    "SELECT CDB_TransformToWebmercator(CDB_LatLng( start_station_latitude,start_station_longitude)) as the_geom_webmercator,\n",
    "MIN(cartodb_id) as cartodb_id\n",
    "FROM citibike\n",
    "GROUP BY start_station_latitude, start_station_longitude \n",
    ",,,"
   ]
  },
  {
   "cell_type": "code",
   "execution_count": null,
   "metadata": {
    "collapsed": true
   },
   "outputs": [],
   "source": []
  },
  {
   "cell_type": "code",
   "execution_count": null,
   "metadata": {
    "collapsed": true
   },
   "outputs": [],
   "source": []
  },
  {
   "cell_type": "code",
   "execution_count": null,
   "metadata": {
    "collapsed": true
   },
   "outputs": [],
   "source": []
  },
  {
   "cell_type": "code",
   "execution_count": null,
   "metadata": {
    "collapsed": true
   },
   "outputs": [],
   "source": []
  }
 ],
 "metadata": {
  "kernelspec": {
   "display_name": "PUI2016_Python2",
   "language": "python",
   "name": "pui2016_python2"
  },
  "language_info": {
   "codemirror_mode": {
    "name": "ipython",
    "version": 2
   },
   "file_extension": ".py",
   "mimetype": "text/x-python",
   "name": "python",
   "nbconvert_exporter": "python",
   "pygments_lexer": "ipython2",
   "version": "2.7.12"
  }
 },
 "nbformat": 4,
 "nbformat_minor": 0
}
