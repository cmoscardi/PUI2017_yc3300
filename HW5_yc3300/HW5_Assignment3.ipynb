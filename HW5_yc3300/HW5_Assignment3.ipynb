{
 "cells": [
  {
   "cell_type": "code",
   "execution_count": 1,
   "metadata": {
    "collapsed": false
   },
   "outputs": [
    {
     "name": "stdout",
     "output_type": "stream",
     "text": [
      "Populating the interactive namespace from numpy and matplotlib\n"
     ]
    },
    {
     "name": "stderr",
     "output_type": "stream",
     "text": [
      "/opt/rh/anaconda/root/envs/PUI2016_Python2/lib/python2.7/site-packages/IPython/html.py:14: ShimWarning: The `IPython.html` package has been deprecated. You should import from `notebook` instead. `IPython.html.widgets` has moved to `ipywidgets`.\n",
      "  \"`IPython.html.widgets` has moved to `ipywidgets`.\", ShimWarning)\n"
     ]
    }
   ],
   "source": [
    "import os\n",
    "import numpy as np\n",
    "import pandas as pd\n",
    "import statsmodels.api as sm\n",
    "import statsmodels.formula.api as smf\n",
    "import seaborn as sns\n",
    "import pylab as pl\n",
    "%pylab inline\n",
    "\n",
    "import urllib"
   ]
  },
  {
   "cell_type": "code",
   "execution_count": 2,
   "metadata": {
    "collapsed": false
   },
   "outputs": [
    {
     "data": {
      "text/html": [
       "<div>\n",
       "<table border=\"1\" class=\"dataframe\">\n",
       "  <thead>\n",
       "    <tr style=\"text-align: right;\">\n",
       "      <th></th>\n",
       "      <th>Country/Territory</th>\n",
       "      <th>ISO code</th>\n",
       "      <th>Source</th>\n",
       "      <th>% of homicides by firearm</th>\n",
       "      <th>Number of homicides by firearm</th>\n",
       "      <th>Homicide by firearm rate per 100,000 pop</th>\n",
       "      <th>Rank by rate of ownership</th>\n",
       "      <th>Average firearms per 100 people</th>\n",
       "      <th>Average total all civilian firearms</th>\n",
       "    </tr>\n",
       "  </thead>\n",
       "  <tbody>\n",
       "    <tr>\n",
       "      <th>0</th>\n",
       "      <td>Albania</td>\n",
       "      <td>AL</td>\n",
       "      <td>CTS</td>\n",
       "      <td>65.9</td>\n",
       "      <td>56.0</td>\n",
       "      <td>1.76</td>\n",
       "      <td>70.0</td>\n",
       "      <td>8.6</td>\n",
       "      <td>270000.0</td>\n",
       "    </tr>\n",
       "    <tr>\n",
       "      <th>1</th>\n",
       "      <td>Algeria</td>\n",
       "      <td>DZ</td>\n",
       "      <td>CTS</td>\n",
       "      <td>4.8</td>\n",
       "      <td>20.0</td>\n",
       "      <td>0.06</td>\n",
       "      <td>78.0</td>\n",
       "      <td>7.6</td>\n",
       "      <td>1900000.0</td>\n",
       "    </tr>\n",
       "    <tr>\n",
       "      <th>2</th>\n",
       "      <td>Angola</td>\n",
       "      <td>AO</td>\n",
       "      <td>NaN</td>\n",
       "      <td>NaN</td>\n",
       "      <td>NaN</td>\n",
       "      <td>NaN</td>\n",
       "      <td>34.0</td>\n",
       "      <td>17.3</td>\n",
       "      <td>2800000.0</td>\n",
       "    </tr>\n",
       "    <tr>\n",
       "      <th>3</th>\n",
       "      <td>Anguilla</td>\n",
       "      <td>AI</td>\n",
       "      <td>WHO-MDB</td>\n",
       "      <td>24.0</td>\n",
       "      <td>1.0</td>\n",
       "      <td>7.14</td>\n",
       "      <td>NaN</td>\n",
       "      <td>NaN</td>\n",
       "      <td>NaN</td>\n",
       "    </tr>\n",
       "    <tr>\n",
       "      <th>4</th>\n",
       "      <td>Argentina</td>\n",
       "      <td>AR</td>\n",
       "      <td>Ministry of Justice</td>\n",
       "      <td>52.0</td>\n",
       "      <td>1198.0</td>\n",
       "      <td>3.02</td>\n",
       "      <td>62.0</td>\n",
       "      <td>10.2</td>\n",
       "      <td>3950000.0</td>\n",
       "    </tr>\n",
       "  </tbody>\n",
       "</table>\n",
       "</div>"
      ],
      "text/plain": [
       "  Country/Territory ISO code               Source  % of homicides by firearm  \\\n",
       "0           Albania       AL                  CTS                       65.9   \n",
       "1           Algeria       DZ                  CTS                        4.8   \n",
       "2            Angola       AO                  NaN                        NaN   \n",
       "3          Anguilla       AI              WHO-MDB                       24.0   \n",
       "4         Argentina       AR  Ministry of Justice                       52.0   \n",
       "\n",
       "   Number of homicides by firearm  Homicide by firearm rate per 100,000 pop  \\\n",
       "0                            56.0                                      1.76   \n",
       "1                            20.0                                      0.06   \n",
       "2                             NaN                                       NaN   \n",
       "3                             1.0                                      7.14   \n",
       "4                          1198.0                                      3.02   \n",
       "\n",
       "   Rank by rate of ownership  Average firearms per 100 people  \\\n",
       "0                       70.0                              8.6   \n",
       "1                       78.0                              7.6   \n",
       "2                       34.0                             17.3   \n",
       "3                        NaN                              NaN   \n",
       "4                       62.0                             10.2   \n",
       "\n",
       "   Average total all civilian firearms  \n",
       "0                             270000.0  \n",
       "1                            1900000.0  \n",
       "2                            2800000.0  \n",
       "3                                  NaN  \n",
       "4                            3950000.0  "
      ]
     },
     "execution_count": 2,
     "metadata": {},
     "output_type": "execute_result"
    }
   ],
   "source": [
    "url1 = \"https://raw.githubusercontent.com/jazzzchan/PUI2017_yc3300/master/HW5_yc3300/World%20firearms%20murders%20and%20ownership%20-%20Sheet%201.csv\"\n",
    "os.system(\"curl -0\" + url1)\n",
    "os.system(\"mv firearm.csv\" + os.getenv(\"PUIDATA\"))\n",
    "data_firearm = pd.read_csv(os.getenv(\"PUIDATA\") + \"/\" + \"firearm.csv\")\n",
    "data_firearm.head()"
   ]
  },
  {
   "cell_type": "code",
   "execution_count": 3,
   "metadata": {
    "collapsed": false
   },
   "outputs": [
    {
     "data": {
      "text/plain": [
       "Index([u'Country/Territory', u'ISO code', u'Source',\n",
       "       u'% of homicides by firearm', u'Number of homicides by firearm',\n",
       "       u'Homicide by firearm rate per 100,000 pop',\n",
       "       u'Rank by rate of ownership', u'Average firearms per 100 people',\n",
       "       u'Average total all civilian firearms'],\n",
       "      dtype='object')"
      ]
     },
     "execution_count": 3,
     "metadata": {},
     "output_type": "execute_result"
    }
   ],
   "source": [
    "data_firearm.columns"
   ]
  },
  {
   "cell_type": "code",
   "execution_count": 4,
   "metadata": {
    "collapsed": false
   },
   "outputs": [],
   "source": [
    "data_firearm.drop(['ISO code','Source','% of homicides by firearm','Homicide by firearm rate per 100,000 pop','Rank by rate of ownership',\n",
    "                   'Average firearms per 100 people'],axis = 1, inplace = True)\n",
    "data_firearm.head()\n",
    "data_firearm = data_firearm.rename(columns={\"Country/Territory\" :\"Country\"})\n"
   ]
  },
  {
   "cell_type": "code",
   "execution_count": 5,
   "metadata": {
    "collapsed": false
   },
   "outputs": [
    {
     "data": {
      "text/html": [
       "<div>\n",
       "<table border=\"1\" class=\"dataframe\">\n",
       "  <thead>\n",
       "    <tr style=\"text-align: right;\">\n",
       "      <th></th>\n",
       "      <th>Country</th>\n",
       "      <th>Guns/100 inhabitants</th>\n",
       "      <th>Number of mass shootings</th>\n",
       "    </tr>\n",
       "  </thead>\n",
       "  <tbody>\n",
       "    <tr>\n",
       "      <th>0</th>\n",
       "      <td>Australia</td>\n",
       "      <td>15.0</td>\n",
       "      <td>4</td>\n",
       "    </tr>\n",
       "    <tr>\n",
       "      <th>1</th>\n",
       "      <td>Austria</td>\n",
       "      <td>30.4</td>\n",
       "      <td>1</td>\n",
       "    </tr>\n",
       "    <tr>\n",
       "      <th>2</th>\n",
       "      <td>Beligium</td>\n",
       "      <td>17.2</td>\n",
       "      <td>2</td>\n",
       "    </tr>\n",
       "    <tr>\n",
       "      <th>3</th>\n",
       "      <td>Canada</td>\n",
       "      <td>30.8</td>\n",
       "      <td>4</td>\n",
       "    </tr>\n",
       "    <tr>\n",
       "      <th>4</th>\n",
       "      <td>Denmark</td>\n",
       "      <td>12.0</td>\n",
       "      <td>0</td>\n",
       "    </tr>\n",
       "  </tbody>\n",
       "</table>\n",
       "</div>"
      ],
      "text/plain": [
       "     Country  Guns/100 inhabitants  Number of mass shootings\n",
       "0  Australia                  15.0                         4\n",
       "1    Austria                  30.4                         1\n",
       "2   Beligium                  17.2                         2\n",
       "3     Canada                  30.8                         4\n",
       "4    Denmark                  12.0                         0"
      ]
     },
     "execution_count": 5,
     "metadata": {},
     "output_type": "execute_result"
    }
   ],
   "source": [
    "url = 'data:application/octet-stream;charset=utf-8,Country%2CGuns%2F100%20inhabitants%2CNumber%20of%20mass%20shootings%0AAustralia%2C15%2C4%0AAustria%2C30.4%2C1%0ABeligium%2C17.2%2C2%0ACanada%2C30.8%2C4%0ADenmark%2C12%2C0%0AFinland%2C45.3%2C2%0AFrance%2C31.2%2C6%0AGermany%2C30.3%2C7%0AGreece%2C22.5%2C0%0AHolland%2C3.9%2C2%0AHungary%2C5.5%2C0%0AIceland%2C30.3%2C0%0AIreland%2C8.6%2C0%0AItaly%2C11.9%2C0%0AJapan%2C0.6%2C0%0ALuxembourg%2C15.3%2C0%0ANew%20Zealand%2C22.6%2C3%0ANorway%2C31.3%2C1%0APoland%2C1.3%2C0%0APortugal%2C8.5%2C1%0ASpain%2C10.4%2C1%0ASweden%2C31.6%2C2%0ASwitzerland%2C45.7%2C2%0AUnited%20Kingdom%2C6.2%2C3%0AUnited%20States%2C88.8%2C78'\n",
    "try:\n",
    "    response = urllib.urlopen(url)\n",
    "    data_shoot = pd.read_csv(response)\n",
    "\n",
    "except urllib.HTTPError:\n",
    "    print('Invalid URL!!!')\n",
    "    \n",
    "data_shoot.head()"
   ]
  },
  {
   "cell_type": "code",
   "execution_count": 6,
   "metadata": {
    "collapsed": false
   },
   "outputs": [],
   "source": [
    "url3 = 'https://raw.githubusercontent.com/jazzzchan/PUI2017_yc3300/master/HW5_yc3300/API_SP.POP.TOTL_DS2_en_csv_v2.csv'\n",
    "os.system(\"curl -0\" + url3)\n",
    "os.system(\"mv worldpop.csv \" + os.getenv(\"PUIDATA\"))\n",
    "data_pop = pd.read_csv(os.getenv(\"PUIDATA\") + \"/\" + \"worldpop.csv\", skiprows = [0,1,2,3])"
   ]
  },
  {
   "cell_type": "code",
   "execution_count": 7,
   "metadata": {
    "collapsed": false
   },
   "outputs": [
    {
     "data": {
      "text/plain": [
       "Index([u'Country Name', u'Country Code', u'Indicator Name', u'Indicator Code',\n",
       "       u'1960', u'1961', u'1962', u'1963', u'1964', u'1965', u'1966', u'1967',\n",
       "       u'1968', u'1969', u'1970', u'1971', u'1972', u'1973', u'1974', u'1975',\n",
       "       u'1976', u'1977', u'1978', u'1979', u'1980', u'1981', u'1982', u'1983',\n",
       "       u'1984', u'1985', u'1986', u'1987', u'1988', u'1989', u'1990', u'1991',\n",
       "       u'1992', u'1993', u'1994', u'1995', u'1996', u'1997', u'1998', u'1999',\n",
       "       u'2000', u'2001', u'2002', u'2003', u'2004', u'2005', u'2006', u'2007',\n",
       "       u'2008', u'2009', u'2010', u'2011', u'2012', u'2013', u'2014', u'2015',\n",
       "       u'2016', u'Unnamed: 61'],\n",
       "      dtype='object')"
      ]
     },
     "execution_count": 7,
     "metadata": {},
     "output_type": "execute_result"
    }
   ],
   "source": [
    "data_pop.columns"
   ]
  },
  {
   "cell_type": "code",
   "execution_count": 8,
   "metadata": {
    "collapsed": false
   },
   "outputs": [],
   "source": [
    "data_pop.drop(['Country Code','Indicator Name','Indicator Code','1960', '1961', '1962', '1963', u'1964', u'1965', u'1966', u'1967',\n",
    "       '1968', '1969', '1970', '1971', '1972', '1973', '1974', '1975',\n",
    "       '1976', '1977', '1978', '1979', '1980', '1981', '1982', '1983',\n",
    "       '1984', '1985', '1986', '1987', '1988', '1989', '1990', '1991',\n",
    "       '1992', '1993', '1994', '1995', '1996', '1997', '1998', '1999',\n",
    "       '2000', '2001', '2002', '2003', '2004', '2005', '2006', '2007',\n",
    "       '2008', '2009', '2010', '2011', '2013', '2014', '2015',\n",
    "       '2016', 'Unnamed: 61'],axis=1, inplace= True)\n",
    "data_pop = data_pop.rename(columns = {\"2012\":\"population\"})"
   ]
  },
  {
   "cell_type": "code",
   "execution_count": 9,
   "metadata": {
    "collapsed": false
   },
   "outputs": [
    {
     "data": {
      "text/html": [
       "<div>\n",
       "<table border=\"1\" class=\"dataframe\">\n",
       "  <thead>\n",
       "    <tr style=\"text-align: right;\">\n",
       "      <th></th>\n",
       "      <th>Country Name</th>\n",
       "      <th>population</th>\n",
       "    </tr>\n",
       "  </thead>\n",
       "  <tbody>\n",
       "    <tr>\n",
       "      <th>0</th>\n",
       "      <td>Aruba</td>\n",
       "      <td>102577.0</td>\n",
       "    </tr>\n",
       "    <tr>\n",
       "      <th>1</th>\n",
       "      <td>Afghanistan</td>\n",
       "      <td>30696958.0</td>\n",
       "    </tr>\n",
       "    <tr>\n",
       "      <th>2</th>\n",
       "      <td>Angola</td>\n",
       "      <td>25096150.0</td>\n",
       "    </tr>\n",
       "    <tr>\n",
       "      <th>3</th>\n",
       "      <td>Albania</td>\n",
       "      <td>2900401.0</td>\n",
       "    </tr>\n",
       "    <tr>\n",
       "      <th>4</th>\n",
       "      <td>Andorra</td>\n",
       "      <td>82431.0</td>\n",
       "    </tr>\n",
       "  </tbody>\n",
       "</table>\n",
       "</div>"
      ],
      "text/plain": [
       "  Country Name  population\n",
       "0        Aruba    102577.0\n",
       "1  Afghanistan  30696958.0\n",
       "2       Angola  25096150.0\n",
       "3      Albania   2900401.0\n",
       "4      Andorra     82431.0"
      ]
     },
     "execution_count": 9,
     "metadata": {},
     "output_type": "execute_result"
    }
   ],
   "source": [
    "data_pop.head()"
   ]
  },
  {
   "cell_type": "code",
   "execution_count": 10,
   "metadata": {
    "collapsed": true
   },
   "outputs": [],
   "source": [
    "url4='https://raw.githubusercontent.com/jazzzchan/PUI2017_yc3300/master/HW5_yc3300/API_NY.GDP.MKTP.CD_DS2_en_csv_v2.csv'"
   ]
  },
  {
   "cell_type": "code",
   "execution_count": 11,
   "metadata": {
    "collapsed": false
   },
   "outputs": [],
   "source": [
    "os.system(\"curl -O \" + url4)\n",
    "os.system(\"mv worldgdp.csv \" + os.getenv(\"PUIDATA\"))\n",
    "data_gdp = pd.read_csv(os.getenv(\"PUIDATA\") + \"/\" + \"worldgdp.csv\",skiprows = [0,1,2,3])"
   ]
  },
  {
   "cell_type": "code",
   "execution_count": 12,
   "metadata": {
    "collapsed": false
   },
   "outputs": [
    {
     "data": {
      "text/plain": [
       "Index([u'Country Name', u'Country Code', u'Indicator Name', u'Indicator Code',\n",
       "       u'1960', u'1961', u'1962', u'1963', u'1964', u'1965', u'1966', u'1967',\n",
       "       u'1968', u'1969', u'1970', u'1971', u'1972', u'1973', u'1974', u'1975',\n",
       "       u'1976', u'1977', u'1978', u'1979', u'1980', u'1981', u'1982', u'1983',\n",
       "       u'1984', u'1985', u'1986', u'1987', u'1988', u'1989', u'1990', u'1991',\n",
       "       u'1992', u'1993', u'1994', u'1995', u'1996', u'1997', u'1998', u'1999',\n",
       "       u'2000', u'2001', u'2002', u'2003', u'2004', u'2005', u'2006', u'2007',\n",
       "       u'2008', u'2009', u'2010', u'2011', u'2012', u'2013', u'2014', u'2015',\n",
       "       u'2016', u'Unnamed: 61'],\n",
       "      dtype='object')"
      ]
     },
     "execution_count": 12,
     "metadata": {},
     "output_type": "execute_result"
    }
   ],
   "source": [
    "data_gdp.columns"
   ]
  },
  {
   "cell_type": "code",
   "execution_count": 13,
   "metadata": {
    "collapsed": false
   },
   "outputs": [
    {
     "data": {
      "text/html": [
       "<div>\n",
       "<table border=\"1\" class=\"dataframe\">\n",
       "  <thead>\n",
       "    <tr style=\"text-align: right;\">\n",
       "      <th></th>\n",
       "      <th>Country Name</th>\n",
       "      <th>gdp</th>\n",
       "    </tr>\n",
       "  </thead>\n",
       "  <tbody>\n",
       "    <tr>\n",
       "      <th>0</th>\n",
       "      <td>Aruba</td>\n",
       "      <td>NaN</td>\n",
       "    </tr>\n",
       "    <tr>\n",
       "      <th>1</th>\n",
       "      <td>Afghanistan</td>\n",
       "      <td>2.053654e+10</td>\n",
       "    </tr>\n",
       "    <tr>\n",
       "      <th>2</th>\n",
       "      <td>Angola</td>\n",
       "      <td>1.153984e+11</td>\n",
       "    </tr>\n",
       "    <tr>\n",
       "      <th>3</th>\n",
       "      <td>Albania</td>\n",
       "      <td>1.231978e+10</td>\n",
       "    </tr>\n",
       "    <tr>\n",
       "      <th>4</th>\n",
       "      <td>Andorra</td>\n",
       "      <td>3.146152e+09</td>\n",
       "    </tr>\n",
       "  </tbody>\n",
       "</table>\n",
       "</div>"
      ],
      "text/plain": [
       "  Country Name           gdp\n",
       "0        Aruba           NaN\n",
       "1  Afghanistan  2.053654e+10\n",
       "2       Angola  1.153984e+11\n",
       "3      Albania  1.231978e+10\n",
       "4      Andorra  3.146152e+09"
      ]
     },
     "execution_count": 13,
     "metadata": {},
     "output_type": "execute_result"
    }
   ],
   "source": [
    "data_gdp.drop(['Country Code', 'Indicator Name', 'Indicator Code',\n",
    "       '1960', '1961', '1962', '1963', '1964', '1965', '1966', '1967',\n",
    "       '1968', '1969', '1970', '1971', '1972', '1973', '1974', '1975',\n",
    "       '1976', '1977', '1978', '1979', '1980', '1981', '1982', '1983',\n",
    "       '1984', '1985', '1986', '1987', '1988', '1989', '1990', '1991',\n",
    "       '1992', '1993', '1994', '1995', '1996', '1997', '1998', '1999',\n",
    "       '2000', '2001', '2002', '2003', '2004', '2005', '2006', '2007',\n",
    "       '2008', '2009', '2010', '2011', '2013', '2014', '2015',\n",
    "       '2016', 'Unnamed: 61'], axis =1, inplace = True)\n",
    "data_gdp = data_gdp.rename(columns = {\"2012\" : \"gdp\"})\n",
    "data_gdp.head()"
   ]
  },
  {
   "cell_type": "code",
   "execution_count": 14,
   "metadata": {
    "collapsed": false
   },
   "outputs": [
    {
     "data": {
      "text/html": [
       "<div>\n",
       "<table border=\"1\" class=\"dataframe\">\n",
       "  <thead>\n",
       "    <tr style=\"text-align: right;\">\n",
       "      <th></th>\n",
       "      <th>Country Name</th>\n",
       "      <th>population</th>\n",
       "      <th>gdp</th>\n",
       "    </tr>\n",
       "  </thead>\n",
       "  <tbody>\n",
       "    <tr>\n",
       "      <th>0</th>\n",
       "      <td>Aruba</td>\n",
       "      <td>102577.0</td>\n",
       "      <td>NaN</td>\n",
       "    </tr>\n",
       "    <tr>\n",
       "      <th>1</th>\n",
       "      <td>Afghanistan</td>\n",
       "      <td>30696958.0</td>\n",
       "      <td>2.053654e+10</td>\n",
       "    </tr>\n",
       "    <tr>\n",
       "      <th>2</th>\n",
       "      <td>Angola</td>\n",
       "      <td>25096150.0</td>\n",
       "      <td>1.153984e+11</td>\n",
       "    </tr>\n",
       "    <tr>\n",
       "      <th>3</th>\n",
       "      <td>Albania</td>\n",
       "      <td>2900401.0</td>\n",
       "      <td>1.231978e+10</td>\n",
       "    </tr>\n",
       "    <tr>\n",
       "      <th>4</th>\n",
       "      <td>Andorra</td>\n",
       "      <td>82431.0</td>\n",
       "      <td>3.146152e+09</td>\n",
       "    </tr>\n",
       "  </tbody>\n",
       "</table>\n",
       "</div>"
      ],
      "text/plain": [
       "  Country Name  population           gdp\n",
       "0        Aruba    102577.0           NaN\n",
       "1  Afghanistan  30696958.0  2.053654e+10\n",
       "2       Angola  25096150.0  1.153984e+11\n",
       "3      Albania   2900401.0  1.231978e+10\n",
       "4      Andorra     82431.0  3.146152e+09"
      ]
     },
     "execution_count": 14,
     "metadata": {},
     "output_type": "execute_result"
    }
   ],
   "source": [
    "data_popgdp = data_pop.merge(data_gdp, right_on = \"Country Name\", left_on = \"Country Name\")\n",
    "data_popgdp.head()"
   ]
  },
  {
   "cell_type": "code",
   "execution_count": 15,
   "metadata": {
    "collapsed": false
   },
   "outputs": [],
   "source": [
    "data_popgdp = data_popgdp.rename(columns={\"Country Name\":\"Country\"})"
   ]
  },
  {
   "cell_type": "code",
   "execution_count": 16,
   "metadata": {
    "collapsed": false
   },
   "outputs": [
    {
     "data": {
      "text/html": [
       "<div>\n",
       "<table border=\"1\" class=\"dataframe\">\n",
       "  <thead>\n",
       "    <tr style=\"text-align: right;\">\n",
       "      <th></th>\n",
       "      <th>Country</th>\n",
       "      <th>Number of homicides by firearm</th>\n",
       "      <th>Average total all civilian firearms</th>\n",
       "      <th>population</th>\n",
       "      <th>gdp</th>\n",
       "    </tr>\n",
       "  </thead>\n",
       "  <tbody>\n",
       "    <tr>\n",
       "      <th>0</th>\n",
       "      <td>Albania</td>\n",
       "      <td>56.0</td>\n",
       "      <td>270000.0</td>\n",
       "      <td>2900401.0</td>\n",
       "      <td>1.231978e+10</td>\n",
       "    </tr>\n",
       "    <tr>\n",
       "      <th>1</th>\n",
       "      <td>Algeria</td>\n",
       "      <td>20.0</td>\n",
       "      <td>1900000.0</td>\n",
       "      <td>37565847.0</td>\n",
       "      <td>2.090474e+11</td>\n",
       "    </tr>\n",
       "    <tr>\n",
       "      <th>2</th>\n",
       "      <td>Angola</td>\n",
       "      <td>NaN</td>\n",
       "      <td>2800000.0</td>\n",
       "      <td>25096150.0</td>\n",
       "      <td>1.153984e+11</td>\n",
       "    </tr>\n",
       "    <tr>\n",
       "      <th>3</th>\n",
       "      <td>Argentina</td>\n",
       "      <td>1198.0</td>\n",
       "      <td>3950000.0</td>\n",
       "      <td>42096739.0</td>\n",
       "      <td>5.459824e+11</td>\n",
       "    </tr>\n",
       "    <tr>\n",
       "      <th>4</th>\n",
       "      <td>Armenia</td>\n",
       "      <td>9.0</td>\n",
       "      <td>380000.0</td>\n",
       "      <td>2881922.0</td>\n",
       "      <td>1.061932e+10</td>\n",
       "    </tr>\n",
       "  </tbody>\n",
       "</table>\n",
       "</div>"
      ],
      "text/plain": [
       "     Country  Number of homicides by firearm  \\\n",
       "0    Albania                            56.0   \n",
       "1    Algeria                            20.0   \n",
       "2     Angola                             NaN   \n",
       "3  Argentina                          1198.0   \n",
       "4    Armenia                             9.0   \n",
       "\n",
       "   Average total all civilian firearms  population           gdp  \n",
       "0                             270000.0   2900401.0  1.231978e+10  \n",
       "1                            1900000.0  37565847.0  2.090474e+11  \n",
       "2                            2800000.0  25096150.0  1.153984e+11  \n",
       "3                            3950000.0  42096739.0  5.459824e+11  \n",
       "4                             380000.0   2881922.0  1.061932e+10  "
      ]
     },
     "execution_count": 16,
     "metadata": {},
     "output_type": "execute_result"
    }
   ],
   "source": [
    "data_3 = data_firearm.merge(data_popgdp, right_on = \"Country\", left_on = \"Country\")\n",
    "data_3.head()\n"
   ]
  },
  {
   "cell_type": "code",
   "execution_count": 17,
   "metadata": {
    "collapsed": false
   },
   "outputs": [
    {
     "data": {
      "text/html": [
       "<div>\n",
       "<table border=\"1\" class=\"dataframe\">\n",
       "  <thead>\n",
       "    <tr style=\"text-align: right;\">\n",
       "      <th></th>\n",
       "      <th>Country</th>\n",
       "      <th>Number of homicides by firearm</th>\n",
       "      <th>Average total all civilian firearms</th>\n",
       "      <th>population</th>\n",
       "      <th>gdp</th>\n",
       "      <th>Guns/100 inhabitants</th>\n",
       "      <th>Number of mass shootings</th>\n",
       "    </tr>\n",
       "  </thead>\n",
       "  <tbody>\n",
       "    <tr>\n",
       "      <th>0</th>\n",
       "      <td>Australia</td>\n",
       "      <td>30.0</td>\n",
       "      <td>3050000.0</td>\n",
       "      <td>22728254.0</td>\n",
       "      <td>1.538194e+12</td>\n",
       "      <td>15.0</td>\n",
       "      <td>4</td>\n",
       "    </tr>\n",
       "    <tr>\n",
       "      <th>1</th>\n",
       "      <td>Austria</td>\n",
       "      <td>18.0</td>\n",
       "      <td>2500000.0</td>\n",
       "      <td>8429991.0</td>\n",
       "      <td>4.074516e+11</td>\n",
       "      <td>30.4</td>\n",
       "      <td>1</td>\n",
       "    </tr>\n",
       "    <tr>\n",
       "      <th>2</th>\n",
       "      <td>Canada</td>\n",
       "      <td>173.0</td>\n",
       "      <td>9950000.0</td>\n",
       "      <td>34750545.0</td>\n",
       "      <td>1.824289e+12</td>\n",
       "      <td>30.8</td>\n",
       "      <td>4</td>\n",
       "    </tr>\n",
       "    <tr>\n",
       "      <th>3</th>\n",
       "      <td>Denmark</td>\n",
       "      <td>15.0</td>\n",
       "      <td>650000.0</td>\n",
       "      <td>5591572.0</td>\n",
       "      <td>3.271489e+11</td>\n",
       "      <td>12.0</td>\n",
       "      <td>0</td>\n",
       "    </tr>\n",
       "    <tr>\n",
       "      <th>4</th>\n",
       "      <td>Finland</td>\n",
       "      <td>24.0</td>\n",
       "      <td>2400000.0</td>\n",
       "      <td>5413971.0</td>\n",
       "      <td>2.567065e+11</td>\n",
       "      <td>45.3</td>\n",
       "      <td>2</td>\n",
       "    </tr>\n",
       "  </tbody>\n",
       "</table>\n",
       "</div>"
      ],
      "text/plain": [
       "     Country  Number of homicides by firearm  \\\n",
       "0  Australia                            30.0   \n",
       "1    Austria                            18.0   \n",
       "2     Canada                           173.0   \n",
       "3    Denmark                            15.0   \n",
       "4    Finland                            24.0   \n",
       "\n",
       "   Average total all civilian firearms  population           gdp  \\\n",
       "0                            3050000.0  22728254.0  1.538194e+12   \n",
       "1                            2500000.0   8429991.0  4.074516e+11   \n",
       "2                            9950000.0  34750545.0  1.824289e+12   \n",
       "3                             650000.0   5591572.0  3.271489e+11   \n",
       "4                            2400000.0   5413971.0  2.567065e+11   \n",
       "\n",
       "   Guns/100 inhabitants  Number of mass shootings  \n",
       "0                  15.0                         4  \n",
       "1                  30.4                         1  \n",
       "2                  30.8                         4  \n",
       "3                  12.0                         0  \n",
       "4                  45.3                         2  "
      ]
     },
     "execution_count": 17,
     "metadata": {},
     "output_type": "execute_result"
    }
   ],
   "source": [
    "df = data_3.merge(data_shoot, right_on = \"Country\", left_on = \"Country\")\n",
    "df.head()"
   ]
  },
  {
   "cell_type": "code",
   "execution_count": 18,
   "metadata": {
    "collapsed": false
   },
   "outputs": [
    {
     "data": {
      "text/plain": [
       "22"
      ]
     },
     "execution_count": 18,
     "metadata": {},
     "output_type": "execute_result"
    }
   ],
   "source": [
    "len(df)"
   ]
  },
  {
   "cell_type": "code",
   "execution_count": 19,
   "metadata": {
    "collapsed": false
   },
   "outputs": [
    {
     "name": "stdout",
     "output_type": "stream",
     "text": [
      "Number of mass shooting vs GDP, errors represent Poisson statistics.\n",
      "The datapoint to the top right of the plot is the USA, which has noth the highest GDP and the highest number of mass shootings\n"
     ]
    },
    {
     "data": {
      "image/png": "[encoded data removed]",
      "text/plain": [
       "<matplotlib.figure.Figure at 0x7f1318dec290>"
      ]
     },
     "metadata": {},
     "output_type": "display_data"
    }
   ],
   "source": [
    "fig = pl.figure(figsize=(15,5)) \n",
    "\n",
    "\n",
    "ax1 = fig.add_subplot(121)\n",
    "scatter1 = ax1.scatter(df.gdp / 1e9, df['Number of mass shootings'])\n",
    "ax1.errorbar(df.gdp / 1e9, df['Number of mass shootings'], \n",
    "            yerr = np.sqrt(df['Number of mass shootings'] * 1.0), fmt = '.')\n",
    "ax1.set_xlabel(\"GDP (in billions)\")\n",
    "ax1.set_ylabel(\"Number of mass shooting\")\n",
    "ax1.set_ylim()\n",
    "\n",
    "\n",
    "df['shootingspp'] = df[\"Number of mass shootings\"] / df['population'] * 1e3\n",
    "\n",
    "ax2 = fig.add_subplot(122)\n",
    "scatter2 = ax2.scatter(df.gdp/1e9,df['shootingspp'] )\n",
    "ax2.errorbar(df.gdp / 1e9, df['shootingspp'], \n",
    "            yerr = np.sqrt(df['shootingspp'] * 1.0), fmt = '.')\n",
    "ax2.set_xlabel(\"GDP (in billions)\")\n",
    "ax2.set_ylabel(\"Number of mass shooting per person\")\n",
    "ax2.set_ylim()\n",
    "\n",
    "\n",
    "print (\"Number of mass shooting vs GDP, \" + \n",
    "       \"errors represent Poisson statistics.\\n\" + \n",
    "       \"The datapoint to the top right of the plot is the USA, \" + \n",
    "       \"which has noth the highest GDP and the highest number of mass shootings\")"
   ]
  },
  {
   "cell_type": "markdown",
   "metadata": {},
   "source": [
    "## Figure 1. Number of mass shootings vs GDP     \n",
    "US is an outlier which has the highest GDP and the highest number of mass shootings\n",
    "\n",
    "## Figure 2. Number of mass shooting vs GDP per capita\n",
    "Again, US is an outlier which has the highest number of mass shootings but not the highest GDP per person"
   ]
  },
  {
   "cell_type": "code",
   "execution_count": 20,
   "metadata": {
    "collapsed": false
   },
   "outputs": [
    {
     "data": {
      "text/plain": [
       "(-13500000.76160481, 283500017.25040442)"
      ]
     },
     "execution_count": 20,
     "metadata": {},
     "output_type": "execute_result"
    },
    {
     "data": {
      "image/png": "[encoded data removed]",
      "text/plain": [
       "<matplotlib.figure.Figure at 0x7f1316c4c610>"
      ]
     },
     "metadata": {},
     "output_type": "display_data"
    }
   ],
   "source": [
    "fig = pl.figure(figsize=(15,5)) \n",
    "ax1 = fig.add_subplot(121)\n",
    "scatter1 = ax1.scatter(df.population / 1e6, df['Average total all civilian firearms']/1e6)\n",
    "ax1.set_xlabel(\"population (in millions)\")\n",
    "ax1.set_ylabel(\"Average total all civilian firearms\")\n",
    "ax1.set_ylim()\n",
    "\n",
    "ax2 = fig.add_subplot(122)\n",
    "scatter2 = ax2.scatter(df.population / 1e6, df['Average total all civilian firearms']/1e6)\n",
    "ax2.errorbar(df.population / 1e6, df['Average total all civilian firearms'], \n",
    "            yerr = np.sqrt(df['Average total all civilian firearms'] / 1e6 * 1.0), fmt = '.')\n",
    "ax2.set_xlabel(\"population (in millions)\")\n",
    "ax2.set_ylabel(\"Average total all civilian firearms\")\n",
    "ax2.set_ylim()"
   ]
  },
  {
   "cell_type": "markdown",
   "metadata": {},
   "source": [
    "### Figure 3. Average number of civilian firearms per person (without errors)\n",
    "US is still an outlier which has the highest number of civilian firearms and the highest population.\n",
    "### Figure 4. Average number of civilian firearms per person (with errors)\n",
    "Errors here represent Poisson statistics."
   ]
  },
  {
   "cell_type": "markdown",
   "metadata": {},
   "source": []
  },
  {
   "cell_type": "code",
   "execution_count": 21,
   "metadata": {
    "collapsed": false
   },
   "outputs": [
    {
     "data": {
      "image/png": "[encoded data removed]",
      "text/plain": [
       "<matplotlib.figure.Figure at 0x7f1318dd1a90>"
      ]
     },
     "metadata": {},
     "output_type": "display_data"
    }
   ],
   "source": [
    "fig, ax = plt.subplots()\n",
    "ax.hist(df['Number of homicides by firearm'] / df['population'] * 1000)\n",
    "ax.set_xlabel('homicides by firearm per 1000 people');"
   ]
  },
  {
   "cell_type": "markdown",
   "metadata": {},
   "source": [
    "### Figure 5. Histogram of the number of homicides by firearm per 1000 person\n",
    "This shows an outlier with a high average number of homicides by firearms per 1,000 people in their population which has only one occurrence"
   ]
  },
  {
   "cell_type": "code",
   "execution_count": 22,
   "metadata": {
    "collapsed": false
   },
   "outputs": [
    {
     "data": {
      "text/plain": [
       "(-0.86359109323329708, 12.790893846941653)"
      ]
     },
     "execution_count": 22,
     "metadata": {},
     "output_type": "execute_result"
    },
    {
     "data": {
      "image/png": "[encoded data removed]",
      "text/plain": [
       "<matplotlib.figure.Figure at 0x7f1316aa78d0>"
      ]
     },
     "metadata": {},
     "output_type": "display_data"
    }
   ],
   "source": [
    "fig = pl.figure(figsize=(15,5))\n",
    "\n",
    "ax1 = fig.add_subplot(121)\n",
    "scatter1 = ax1.scatter(df.gdp / 1e9, df['Number of homicides by firearm'] / 1e3)\n",
    "ax1.errorbar(df.gdp/ 1e9, df['Number of homicides by firearm'] / 1e3, \n",
    "            yerr = np.sqrt(df['Number of homicides by firearm'] / 1e3 * 1.0), fmt = '.')\n",
    "ax1.set_xlabel(\"GDP (in billions)\")\n",
    "ax1.set_ylabel(\"Number of homicides by firearms per 1000 people\")\n",
    "ax1.set_ylim()\n"
   ]
  },
  {
   "cell_type": "markdown",
   "metadata": {},
   "source": [
    "### Figure 6. Number of homicides by firearms for every 1000 people vs GDP in billions.\n",
    "Us is an outlier with a high average of homicides by firearms and a high GDP."
   ]
  },
  {
   "cell_type": "code",
   "execution_count": 23,
   "metadata": {
    "collapsed": false
   },
   "outputs": [
    {
     "data": {
      "text/html": [
       "<div>\n",
       "<table border=\"1\" class=\"dataframe\">\n",
       "  <thead>\n",
       "    <tr style=\"text-align: right;\">\n",
       "      <th></th>\n",
       "      <th>Country</th>\n",
       "      <th>Number of homicides by firearm</th>\n",
       "      <th>Average total all civilian firearms</th>\n",
       "      <th>population</th>\n",
       "      <th>gdp</th>\n",
       "      <th>Guns/100 inhabitants</th>\n",
       "      <th>Number of mass shootings</th>\n",
       "      <th>shootingspp</th>\n",
       "    </tr>\n",
       "  </thead>\n",
       "  <tbody>\n",
       "    <tr>\n",
       "      <th>21</th>\n",
       "      <td>United States</td>\n",
       "      <td>9146.0</td>\n",
       "      <td>270000000.0</td>\n",
       "      <td>313998379.0</td>\n",
       "      <td>1.615526e+13</td>\n",
       "      <td>88.8</td>\n",
       "      <td>78</td>\n",
       "      <td>0.000248</td>\n",
       "    </tr>\n",
       "  </tbody>\n",
       "</table>\n",
       "</div>"
      ],
      "text/plain": [
       "          Country  Number of homicides by firearm  \\\n",
       "21  United States                          9146.0   \n",
       "\n",
       "    Average total all civilian firearms   population           gdp  \\\n",
       "21                          270000000.0  313998379.0  1.615526e+13   \n",
       "\n",
       "    Guns/100 inhabitants  Number of mass shootings  shootingspp  \n",
       "21                  88.8                        78     0.000248  "
      ]
     },
     "execution_count": 23,
     "metadata": {},
     "output_type": "execute_result"
    }
   ],
   "source": [
    "df_usa = df[df['Country'] == 'United States']\n",
    "df_usa"
   ]
  },
  {
   "cell_type": "code",
   "execution_count": 24,
   "metadata": {
    "collapsed": false
   },
   "outputs": [
    {
     "data": {
      "image/png": "[encoded data removed]",
      "text/plain": [
       "<matplotlib.figure.Figure at 0x7f131673bad0>"
      ]
     },
     "metadata": {},
     "output_type": "display_data"
    }
   ],
   "source": [
    "fig = pl.figure(figsize=(15,5))\n",
    "\n",
    "ax1 = fig.add_subplot(121)\n",
    "ax1.scatter(df['Average total all civilian firearms'] / 1e6 , df['Number of homicides by firearm'] / 1e3)\n",
    "ax1.plot(df_usa['Average total all civilian firearms'] / 1e6 , df_usa['Number of homicides by firearm'] / 1e3, 'ro', markersize=8)\n",
    "ax1.set_xlabel('Average total all civilian firearms (in millions)')\n",
    "ax1.set_ylabel('Number of homicides by firearm (in thousands)')\n",
    "ax1.set_ylim();\n",
    "\n",
    "ax2 = fig.add_subplot(122)\n",
    "ax2.scatter(df['Average total all civilian firearms'] / 1e6 , df['Number of homicides by firearm'] / 1e3)\n",
    "ax2.errorbar(df['Average total all civilian firearms'] / 1e6 , df['Number of homicides by firearm'] / 1e3,\n",
    "            yerr=np.sqrt(df['Number of homicides by firearm'] / 1e3 * 1.0), fmt='.')\n",
    "ax2.plot(df_usa['Average total all civilian firearms'] / 1e6 , df_usa['Number of homicides by firearm'] / 1e3, 'ro', markersize=8)\n",
    "ax2.errorbar(df_usa['Average total all civilian firearms'] / 1e6 , df_usa['Number of homicides by firearm'] / 1e3,\n",
    "            yerr=np.sqrt(df_usa['Number of homicides by firearm'] / 1e3 * 1.0), fmt='.', color='r')\n",
    "ax2.set_xlabel('Average total all civilian firearms (in millions)')\n",
    "ax2.set_ylabel('Number of homicides by firearm (in thousands)')\n",
    "ax2.set_ylim();"
   ]
  },
  {
   "cell_type": "markdown",
   "metadata": {},
   "source": [
    "### Figure 7. Number of homicides by firearms against Average total civilian firearms  - Without Errors\n",
    "This figure shows the relationship between the number of homicides by firearms against the average total civilian firearms per country and the US is highlighted in red. It has the highest number of civilian firearms and also the highest number of homicides by firearms.\n",
    "### Figure 8. Number of homicides by firearms against Average total civilian firearms (in millions) - With Errors\n",
    "Errors here represent a Poisson statistic."
   ]
  },
  {
   "cell_type": "code",
   "execution_count": 25,
   "metadata": {
    "collapsed": false
   },
   "outputs": [
    {
     "data": {
      "image/png": "[encoded data removed]",
      "text/plain": [
       "<matplotlib.figure.Figure at 0x7f1316d483d0>"
      ]
     },
     "metadata": {},
     "output_type": "display_data"
    }
   ],
   "source": [
    "fig = pl.figure(figsize=(15,5))\n",
    "\n",
    "ax1 = fig.add_subplot(121)\n",
    "ax1.scatter(df['Average total all civilian firearms'] / 1e6 , df['Number of mass shootings'])\n",
    "ax1.plot(df_usa['Average total all civilian firearms'] / 1e6 , df_usa['Number of mass shootings'], 'ro', markersize=8)\n",
    "ax1.set_xlabel('Average total all civilian firearms (in millions)')\n",
    "ax1.set_ylabel('Number of mass shootings')\n",
    "ax1.set_ylim();\n",
    "\n",
    "ax2 = fig.add_subplot(122)\n",
    "ax2.scatter(df['Average total all civilian firearms'] / 1e6 , df['Number of mass shootings'])\n",
    "ax2.errorbar(df['Average total all civilian firearms'] / 1e6 , df['Number of mass shootings'],\n",
    "            yerr=np.sqrt(df['Number of mass shootings'] * 1.0), fmt='.')\n",
    "ax2.plot(df_usa['Average total all civilian firearms'] / 1e6 , df_usa['Number of mass shootings'], 'ro', markersize=8)\n",
    "ax2.errorbar(df_usa['Average total all civilian firearms'] / 1e6 , df_usa['Number of mass shootings'],\n",
    "            yerr=np.sqrt(df_usa['Number of mass shootings'] * 1.0), fmt='.', color='r')\n",
    "ax2.set_xlabel('Average total all civilian firearms (in millions)')\n",
    "ax2.set_ylabel('Number of mass shootings')\n",
    "ax2.set_ylim();"
   ]
  },
  {
   "cell_type": "markdown",
   "metadata": {},
   "source": [
    "## Figure 9. Number of mass shootings against Average total civilian firearms - without errors\n",
    "This shows the relationship between the number of mass shootings against the average total civilian firearms per country and the US is highlighted in red. It has the highest number of civilian firearms and also the highest number of mass shootings.\n",
    "## Figure 10. Number of mass shootings against Average total civilian firearms - With Errors\n",
    "Errors represent a Poisson statistic."
   ]
  },
  {
   "cell_type": "code",
   "execution_count": 26,
   "metadata": {
    "collapsed": false
   },
   "outputs": [],
   "source": [
    "df['shootingspp'] = df['Number of mass shootings'] / df['population'] * 1e6\n",
    "df['firearmspp'] = df['Average total all civilian firearms'] / df['population']"
   ]
  },
  {
   "cell_type": "code",
   "execution_count": 27,
   "metadata": {
    "collapsed": false
   },
   "outputs": [
    {
     "data": {
      "text/html": [
       "<table class=\"simpletable\">\n",
       "<caption>OLS Regression Results</caption>\n",
       "<tr>\n",
       "  <th>Dep. Variable:</th>       <td>shootingspp</td>   <th>  R-squared:         </th> <td>   0.199</td>\n",
       "</tr>\n",
       "<tr>\n",
       "  <th>Model:</th>                   <td>OLS</td>       <th>  Adj. R-squared:    </th> <td>   0.159</td>\n",
       "</tr>\n",
       "<tr>\n",
       "  <th>Method:</th>             <td>Least Squares</td>  <th>  F-statistic:       </th> <td>   4.971</td>\n",
       "</tr>\n",
       "<tr>\n",
       "  <th>Date:</th>             <td>Tue, 17 Oct 2017</td> <th>  Prob (F-statistic):</th>  <td>0.0374</td> \n",
       "</tr>\n",
       "<tr>\n",
       "  <th>Time:</th>                 <td>23:27:21</td>     <th>  Log-Likelihood:    </th> <td>  11.424</td>\n",
       "</tr>\n",
       "<tr>\n",
       "  <th>No. Observations:</th>      <td>    22</td>      <th>  AIC:               </th> <td>  -18.85</td>\n",
       "</tr>\n",
       "<tr>\n",
       "  <th>Df Residuals:</th>          <td>    20</td>      <th>  BIC:               </th> <td>  -16.67</td>\n",
       "</tr>\n",
       "<tr>\n",
       "  <th>Df Model:</th>              <td>     1</td>      <th>                     </th>     <td> </td>   \n",
       "</tr>\n",
       "<tr>\n",
       "  <th>Covariance Type:</th>      <td>nonrobust</td>    <th>                     </th>     <td> </td>   \n",
       "</tr>\n",
       "</table>\n",
       "<table class=\"simpletable\">\n",
       "<tr>\n",
       "       <td></td>         <th>coef</th>     <th>std err</th>      <th>t</th>      <th>P>|t|</th> <th>[95.0% Conf. Int.]</th> \n",
       "</tr>\n",
       "<tr>\n",
       "  <th>Intercept</th>  <td>    0.0315</td> <td>    0.051</td> <td>    0.612</td> <td> 0.548</td> <td>   -0.076     0.139</td>\n",
       "</tr>\n",
       "<tr>\n",
       "  <th>firearmspp</th> <td>    0.3911</td> <td>    0.175</td> <td>    2.230</td> <td> 0.037</td> <td>    0.025     0.757</td>\n",
       "</tr>\n",
       "</table>\n",
       "<table class=\"simpletable\">\n",
       "<tr>\n",
       "  <th>Omnibus:</th>       <td>34.840</td> <th>  Durbin-Watson:     </th> <td>   1.955</td>\n",
       "</tr>\n",
       "<tr>\n",
       "  <th>Prob(Omnibus):</th> <td> 0.000</td> <th>  Jarque-Bera (JB):  </th> <td>  88.018</td>\n",
       "</tr>\n",
       "<tr>\n",
       "  <th>Skew:</th>          <td> 2.733</td> <th>  Prob(JB):          </th> <td>7.71e-20</td>\n",
       "</tr>\n",
       "<tr>\n",
       "  <th>Kurtosis:</th>      <td>11.133</td> <th>  Cond. No.          </th> <td>    5.74</td>\n",
       "</tr>\n",
       "</table>"
      ],
      "text/plain": [
       "<class 'statsmodels.iolib.summary.Summary'>\n",
       "\"\"\"\n",
       "                            OLS Regression Results                            \n",
       "==============================================================================\n",
       "Dep. Variable:            shootingspp   R-squared:                       0.199\n",
       "Model:                            OLS   Adj. R-squared:                  0.159\n",
       "Method:                 Least Squares   F-statistic:                     4.971\n",
       "Date:                Tue, 17 Oct 2017   Prob (F-statistic):             0.0374\n",
       "Time:                        23:27:21   Log-Likelihood:                 11.424\n",
       "No. Observations:                  22   AIC:                            -18.85\n",
       "Df Residuals:                      20   BIC:                            -16.67\n",
       "Df Model:                           1                                         \n",
       "Covariance Type:            nonrobust                                         \n",
       "==============================================================================\n",
       "                 coef    std err          t      P>|t|      [95.0% Conf. Int.]\n",
       "------------------------------------------------------------------------------\n",
       "Intercept      0.0315      0.051      0.612      0.548        -0.076     0.139\n",
       "firearmspp     0.3911      0.175      2.230      0.037         0.025     0.757\n",
       "==============================================================================\n",
       "Omnibus:                       34.840   Durbin-Watson:                   1.955\n",
       "Prob(Omnibus):                  0.000   Jarque-Bera (JB):               88.018\n",
       "Skew:                           2.733   Prob(JB):                     7.71e-20\n",
       "Kurtosis:                      11.133   Cond. No.                         5.74\n",
       "==============================================================================\n",
       "\n",
       "Warnings:\n",
       "[1] Standard Errors assume that the covariance matrix of the errors is correctly specified.\n",
       "\"\"\""
      ]
     },
     "execution_count": 27,
     "metadata": {},
     "output_type": "execute_result"
    }
   ],
   "source": [
    "lm1= smf.ols(formula='shootingspp ~ firearmspp', data=df).fit()\n",
    "lm1.summary()"
   ]
  },
  {
   "cell_type": "markdown",
   "metadata": {},
   "source": [
    "The coefficient of firearms per person is significant.\n",
    "The inference is that each increase of 10 firearms per person is predicting roughly 3 to 4 mass shootings per million people in average."
   ]
  },
  {
   "cell_type": "code",
   "execution_count": null,
   "metadata": {
    "collapsed": false
   },
   "outputs": [],
   "source": [
    "yerror = np.sqrt(df['Number of mass shootings']) / df['population'] * 1e6\n",
    "\n",
    "wt = list(1.0 / yerror**2)\n",
    "\n",
    "lm2 = smf.wls(formula='shootingspp ~ firearmspp', data=df, weights = wt ).fit()\n",
    "lm2.summary()"
   ]
  },
  {
   "cell_type": "code",
   "execution_count": null,
   "metadata": {
    "collapsed": true
   },
   "outputs": [],
   "source": [
    "p, v = np.polyfit(df['firearmspp'], df['shootingspp'], 1)\n",
    "print(p, v)"
   ]
  },
  {
   "cell_type": "markdown",
   "metadata": {
    "collapsed": true
   },
   "source": [
    "The coefficient of firearms per person is smaller but more significant after accounting for weights.\n",
    "The adjusted $R^2$ also rise from 0.147 to 0.773, meaning that this could be a better model in predicting their relationship.\n",
    "The inference is that each increase of 10 firearms per person is predicting roughly 2 to 3 mass shootings per million people in average."
   ]
  },
  {
   "cell_type": "code",
   "execution_count": null,
   "metadata": {
    "collapsed": true
   },
   "outputs": [],
   "source": [
    "fig = pl.figure(figsize(15,5))\n",
    "\n",
    "ax1 = fig.add_subplot(321)\n",
    "ax1.scatter(df['firearmspp'], df['shootingspp'])\n",
    "ax1.set_xlabel('Fire arms')\n",
    "ax1.set_ylabel('Mass shootings')\n",
    "\n",
    "ax2 = fig.add_subplot(322)\n",
    "ax2.scatter(df['firearmspp'], df['shootingspp'], label='y')\n",
    "ax2.plot(df['firearmspp'], lm.predict(), 'r-', label='OLS fit')\n",
    "ax2.set_xlabel('Fire arms')\n",
    "ax2.set_ylabel('Mass shootings')\n",
    "ax2.legend()\n",
    "\n",
    "ax3 = fig.add_subplot(323)\n",
    "ax3.errorbar(df['firearmspp'], df['shootingspp'],\n",
    "             yerr=np.sqrt(df['shootingspp']), label='y', fmt='.')\n",
    "ax3.plot(df['firearmspp'], lm.predict(), 'r-', label='OLS fit')\n",
    "ax3.plot(df['firearmspp'], lmw.predict(), 'g-.', label='WLS fit')\n",
    "ax3.set_xlabel('Fire arms')\n",
    "ax3.set_ylabel('Mass shootings')\n",
    "ax3.legend()\n",
    "\n",
    "ax4 = fig.add_subplot(324)\n",
    "sns.regplot(x=df['firearmspp'], y=df['shootingspp'], data=df)\n",
    "ax4.set_xlabel('Fire arms')\n",
    "ax4.set_ylabel('Mass shootings')\n",
    "\n",
    "ax5 = fig.add_subplot(325)\n",
    "ax5.plot(df['shootingspp'], df['shootingspp'] * p + v, '-.',label=\"numpy.polyfit line: %.2f x + %.2f\"%(p, v))\n",
    "ax5.set_xlabel('Fire arms')\n",
    "ax5.set_ylabel('Mass shootings')\n",
    "ax5.legend()\n",
    "plt.show()"
   ]
  },
  {
   "cell_type": "code",
   "execution_count": null,
   "metadata": {
    "collapsed": true
   },
   "outputs": [],
   "source": []
  },
  {
   "cell_type": "code",
   "execution_count": null,
   "metadata": {
    "collapsed": false
   },
   "outputs": [],
   "source": [
    "sm.graphics.influence_plot(lm, alpha=0.05, criterion=\"cooks\")"
   ]
  },
  {
   "cell_type": "code",
   "execution_count": null,
   "metadata": {
    "collapsed": true
   },
   "outputs": [],
   "source": []
  },
  {
   "cell_type": "code",
   "execution_count": null,
   "metadata": {
    "collapsed": true
   },
   "outputs": [],
   "source": []
  },
  {
   "cell_type": "code",
   "execution_count": null,
   "metadata": {
    "collapsed": true
   },
   "outputs": [],
   "source": []
  }
 ],
 "metadata": {
  "kernelspec": {
   "display_name": "PUI2016_Python2",
   "language": "python",
   "name": "pui2016_python2"
  },
  "language_info": {
   "codemirror_mode": {
    "name": "ipython",
    "version": 2
   },
   "file_extension": ".py",
   "mimetype": "text/x-python",
   "name": "python",
   "nbconvert_exporter": "python",
   "pygments_lexer": "ipython2",
   "version": "2.7.12"
  }
 },
 "nbformat": 4,
 "nbformat_minor": 0
}
