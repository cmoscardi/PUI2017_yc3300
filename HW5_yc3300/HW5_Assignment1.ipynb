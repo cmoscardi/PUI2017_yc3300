{
 "cells": [
  {
   "cell_type": "code",
   "execution_count": 84,
   "metadata": {
    "collapsed": false
   },
   "outputs": [
    {
     "name": "stdout",
     "output_type": "stream",
     "text": [
      "Populating the interactive namespace from numpy and matplotlib\n"
     ]
    },
    {
     "name": "stderr",
     "output_type": "stream",
     "text": [
      "/opt/rh/anaconda/root/envs/PUI2016_Python2/lib/python2.7/site-packages/IPython/core/magics/pylab.py:161: UserWarning: pylab import has clobbered these variables: ['std']\n",
      "`%matplotlib` prevents importing * from pylab and numpy\n",
      "  \"\\n`%matplotlib` prevents importing * from pylab and numpy\"\n"
     ]
    }
   ],
   "source": [
    "from __future__ import print_function\n",
    "\n",
    "import scipy.stats as st\n",
    "import pylab as pl\n",
    "import numpy as np\n",
    "%pylab inline"
   ]
  },
  {
   "cell_type": "code",
   "execution_count": 85,
   "metadata": {
    "collapsed": true
   },
   "outputs": [],
   "source": [
    "np.random.seed(999)"
   ]
  },
  {
   "cell_type": "code",
   "execution_count": 95,
   "metadata": {
    "collapsed": false
   },
   "outputs": [],
   "source": [
    "st.poisson.rvs?"
   ]
  },
  {
   "cell_type": "code",
   "execution_count": 109,
   "metadata": {
    "collapsed": false
   },
   "outputs": [
    {
     "data": {
      "text/plain": [
       "<matplotlib.text.Text at 0x7f259fe91cd0>"
      ]
     },
     "execution_count": 109,
     "metadata": {},
     "output_type": "execute_result"
    },
    {
     "data": {
      "image/png": "[encoded data removed]",
      "text/plain": [
       "<matplotlib.figure.Figure at 0x7f25a0103e50>"
      ]
     },
     "metadata": {},
     "output_type": "display_data"
    }
   ],
   "source": [
    "mu=100\n",
    "std=np.sqrt(mu)\n",
    "samples=1000\n",
    "\n",
    "dist_poisson=st.poisson.rvs(mu = mu, size = samples)\n",
    "\n",
    "pl.hist(dist_poisson)\n",
    "pl.title('Poisson Distribution',fontsize =10)\n"
   ]
  },
  {
   "cell_type": "code",
   "execution_count": 110,
   "metadata": {
    "collapsed": false
   },
   "outputs": [],
   "source": [
    "nit=1000\n",
    "dMeans=np.zeros(nit)\n",
    "for i in range(nit):\n",
    "    dist_poisson=st.poisson.rvs(mu = mu, size = samples)\n",
    "    dMeans[i]=dist_poisson.mean()"
   ]
  },
  {
   "cell_type": "code",
   "execution_count": 111,
   "metadata": {
    "collapsed": false
   },
   "outputs": [
    {
     "data": {
      "text/plain": [
       "array([ 0.87278863, -0.96449469,  0.6798897 , -0.11067972,  1.62857299,\n",
       "        0.2687936 , -0.13597794,  2.52349757,  0.83800358, -1.23328829,\n",
       "       -0.59134592, -0.61348187, -0.91706052, -0.33203915,  0.40793382,\n",
       "        1.41986267, -0.87911319, -0.23400855,  0.20871033,  1.62541072,\n",
       "       -0.27828043,  0.41742065, -0.00632456, -0.09170605,  1.36294167,\n",
       "       -0.16127616, -0.04110961,  1.35661712, -0.84749041,  0.23717082,\n",
       "       -0.19606121,  1.35661712,  0.36998649, -0.53126265, -0.11067972,\n",
       "        0.42690748, -0.28144271, -0.33203915, -1.34713028, -1.15423135,\n",
       "       -0.88227547, -1.58746339,  0.21503488,  1.31866978, -0.49963987,\n",
       "       -1.25858651,  0.51228898, -0.79373169, -0.36049965,  0.3257146 ,\n",
       "        1.04038935, -0.69253881,  0.01581139, -0.16127616, -1.32815662,\n",
       "       -0.59134592,  1.47045911, -0.19922349,  0.        ,  0.79056942,\n",
       "       -0.92654735, -0.52493809, -1.48943278,  0.12016655, -0.56920998,\n",
       "       -1.45148545,  0.12016655, -1.32499434,  0.9771438 , -2.56776946,\n",
       "       -0.81902991,  1.63805983, -0.91073597, -0.12649111, -1.14158224,\n",
       "       -0.16127616, -0.67356514, -0.96133241,  0.29092954,  0.68937653,\n",
       "        0.38896015, -0.24349538, -0.75578436, -1.0751744 , -0.34152599,\n",
       "        0.96449469,  0.61031959,  0.5945082 ,  0.52493809,  0.17076299,\n",
       "       -0.27511816,  1.0056043 , -0.21819716,  0.51545126,  0.22452171,\n",
       "        0.22135944,  0.08854377, -1.04038935,  0.09803061, -1.73292816,\n",
       "       -1.68549399,  1.44199861, -0.03478505, -1.55584061, -0.38896015,\n",
       "       -0.25614449,  1.63489755,  1.77403777,  1.41353811, -1.53686694,\n",
       "       -0.73681069, -0.86013952, -1.08149896,  1.85625699, -0.94235874,\n",
       "       -0.5660477 ,  1.43883634,  2.46657657, -2.85237445,  2.12505059,\n",
       "       -0.34785054, -0.12649111, -0.76527119,  0.55023631,  0.84432814,\n",
       "       -0.7083502 , -0.83800358, -0.09803061, -0.52810037,  0.49015304,\n",
       "       -1.39456445, -1.18585412, -0.84432814, -2.23573031,  0.30357866,\n",
       "        0.3257146 ,  1.42618722, -1.05303846,  0.72099931,  1.36294167,\n",
       "       -0.05375872,  0.29092954,  0.55656087, -0.85381497, -0.90124913,\n",
       "       -0.74313525, -0.46801709, -1.44832317,  1.08782352, -1.19850323,\n",
       "       -0.13597794,  0.33836371, -0.44588115,  0.58818364,  0.63561781,\n",
       "       -0.04743416,  1.78668688,  0.31622777, -0.11700427,  0.17392527,\n",
       "       -0.91706052, -0.29092954, -0.18024983, -0.20554805, -0.24981994,\n",
       "       -0.41425837, -2.01437087,  0.24981994, -0.75578436, -1.81514738,\n",
       "       -0.99611746, -0.53126265,  0.24981994, -0.40477154,  1.61592388,\n",
       "       -0.81586764, -0.77159575,  1.68865627,  0.83167902, -0.20554805,\n",
       "       -0.22768399, -1.81830965, -1.68549399, -0.28144271,  0.05375872,\n",
       "       -0.18657438,  0.00948683,  0.6229687 ,  0.55023631, -0.07589466,\n",
       "        0.55023631,  0.58818364,  0.65775375,  0.06640783,  1.26807334,\n",
       "       -0.47434165,  0.5091267 ,  0.5091267 , -0.19606121,  1.4293495 ,\n",
       "        0.5375872 ,  0.41425837, -0.75578436,  0.21819716, -0.65775375,\n",
       "       -0.39212243, -0.42058293, -0.17392527, -0.39528471,  0.31306549,\n",
       "        1.45781   , -0.113842  ,  0.51545126, -0.21819716,  0.5375872 ,\n",
       "        0.58502137,  0.14862705,  0.34785054,  0.30990321, -0.10435516,\n",
       "       -1.04987618,  0.34785054,  0.7083502 ,  1.02141568, -0.28460499,\n",
       "        0.57869681,  0.53442492,  1.01192885,  0.84116586,  0.31939004,\n",
       "       -0.37631104, -0.20871033,  0.28460499,  0.9486833 , -0.71151247,\n",
       "        1.00876657, -0.00632456, -1.10047263,  0.36366193,  0.5945082 ,\n",
       "       -0.09803061, -1.44832317,  0.68305197,  1.27756017, -1.37875306,\n",
       "       -0.46169254,  0.28776727, -0.07273239,  1.14474451,  0.36049965,\n",
       "       -0.82219219, -0.07273239, -0.08221922,  1.56532744,  0.84749041,\n",
       "       -0.51861354, -2.20410753,  0.57553453,  0.27511816,  0.73997297,\n",
       "        0.96449469,  1.25542423,  1.27123562,  0.39844699, -0.82219219,\n",
       "        0.5091267 , -0.27828043, -0.2972541 ,  0.42058293,  0.056921  ,\n",
       "       -0.31939004, -1.09414807,  1.19534096, -0.02529822,  0.71467475,\n",
       "       -0.44588115,  0.35733738, -2.57409402,  1.30918295, -1.13841996,\n",
       "        0.12016655,  0.23717082, -0.26246905, -0.47117937, -0.0853815 ,\n",
       "       -0.20554805, -0.5945082 ,  0.19606121, -0.98979291,  0.04427189,\n",
       "       -0.69253881, -0.8063808 ,  0.23084627, -0.12965338, -0.19289894,\n",
       "        0.5660477 , -0.8917623 , -0.30041638, -1.43883634, -0.6798897 ,\n",
       "        2.39384419,  0.6798897 , -1.47994594, -0.5091267 ,  0.20871033,\n",
       "       -1.61592388,  1.76455093, -0.58185909, -1.82147193,  0.64194237,\n",
       "        1.65070894,  1.53370467, -1.17320501,  0.29092954,  0.51228898,\n",
       "       -1.0751744 ,  0.50596443,  1.31550751, -0.21819716, -0.40160926,\n",
       "       -0.37631104,  0.77475803,  2.00488404,  0.53442492,  0.75578436,\n",
       "       -0.17708755,  1.95428759,  0.86646408,  2.06180503,  1.30918295,\n",
       "       -0.83167902,  0.20871033, -2.04283137, -0.39844699, -0.2687936 ,\n",
       "       -1.98274809,  0.30990321, -0.02213594,  1.38507762, -0.113842  ,\n",
       "        0.65775375, -0.41742065,  0.10751744, -0.81902991,  0.01897367,\n",
       "        0.30357866, -0.21819716,  0.51861354,  0.88543774, -0.38896015,\n",
       "        0.41425837,  0.28460499, -0.0284605 ,  1.33131889, -0.03478505,\n",
       "       -2.54247124,  0.93287191,  1.74873955, -0.26563132, -0.48699076,\n",
       "        0.50280215, -1.80882282,  1.1036349 , -0.5375872 ,  0.75578436,\n",
       "       -0.25298221,  1.15106907, -1.97958582,  0.10751744,  1.52421783,\n",
       "        0.73364842,  0.50596443, -0.85065269,  0.09170605,  0.13597794,\n",
       "        0.5375872 ,  0.05375872, -0.21819716, -1.50524417,  0.26246905,\n",
       "        0.54074948, -0.18024983,  0.6798897 ,  0.57869681, -0.6229687 ,\n",
       "       -0.39528471,  0.18973666, -0.63245553,  1.24909968, -1.72027905,\n",
       "       -2.23256803,  0.22768399, -1.30602067,  1.15423135, -0.01897367,\n",
       "       -0.72732386, -0.45853026,  1.59378794, -0.4806662 ,  0.25298221,\n",
       "        1.14474451,  0.47750393, -1.97642354,  0.60399503, -1.03406479,\n",
       "       -0.58818364,  1.28388473, -0.37631104,  0.46801709, -0.88227547,\n",
       "        0.05375872, -1.44516089, -1.80566054, -1.13525768, -1.23012601,\n",
       "       -1.64122211,  0.13597794, -0.79373169,  0.24349538, -1.55584061,\n",
       "        0.44271887, -1.60959933, -0.03478505, -1.66335805,  1.74241499,\n",
       "        1.84360788,  0.9771438 ,  1.19850323, -1.34713028,  1.26807334,\n",
       "        1.71711677, -0.79689397,  0.36682421,  0.30674093,  0.50280215,\n",
       "       -0.95817013,  1.12577085,  0.14230249, -0.72099931,  0.05375872,\n",
       "        0.76527119, -1.94480076, -1.1605559 , -0.94552102,  0.11067972,\n",
       "        0.36366193, -1.11312174, -0.45853026, -0.65459148, -0.20554805,\n",
       "        1.87839293,  0.056921  , -1.90052887,  0.76210892,  0.04743416,\n",
       "        1.17952957,  0.26246905,  0.57237226, -0.04427189, -0.94552102,\n",
       "       -0.42690748, -0.85065269,  2.54879579, -0.08854377,  0.81586764,\n",
       "        0.20238577,  0.98030607, -0.48699076, -0.3541751 ,  0.7779203 ,\n",
       "        0.93603419,  0.44904343, -0.83800358, -0.56288542,  0.03794733,\n",
       "       -0.6514292 ,  0.51861354, -0.15811388,  1.02774024,  0.113842  ,\n",
       "        0.30674093,  1.01192885, -0.87278863,  0.33520143,  0.60399503,\n",
       "       -0.6514292 , -0.53442492,  0.82851675,  0.58502137, -0.29409182,\n",
       "        0.61664414,  0.8348413 ,  0.06957011, -0.29409182, -0.36049965,\n",
       "        1.400889  , -2.09975237, -1.08466124,  1.38191534, -0.0853815 ,\n",
       "       -0.10751744,  0.72416158, -0.56288542,  0.3257146 , -1.28388473,\n",
       "        1.54951605,  0.23084627, -0.2972541 , -0.39528471, -0.95817013,\n",
       "        1.09414807, -0.58502137, -0.91706052,  0.73364842, -0.49963987,\n",
       "       -0.2687936 , -0.32887688, -1.95428759, -0.35101282,  1.15423135,\n",
       "       -1.49891961, -0.64826692, -2.15351109, -0.3826356 , -0.84116586,\n",
       "       -1.14474451, -0.01897367,  0.01897367, -0.58185909,  0.10119289,\n",
       "       -1.01825341, -1.77087549,  0.12332883, -0.43006976, -0.09486833,\n",
       "        0.16760072, -2.03018226, -0.33203915,  0.26563132, -0.25614449,\n",
       "       -0.57869681, -0.57237226,  0.15178933,  0.15811388,  0.12965338,\n",
       "        1.04038935,  0.72416158,  0.38896015, -0.03162278, -1.43883634,\n",
       "       -0.37947332,  2.49503707, -1.35977939,  1.13841996,  0.36682421,\n",
       "       -1.6696826 , -1.84677015, -0.17708755, -0.85065269,  0.22768399,\n",
       "       -0.14230249, -1.50524417, -0.04110961, -0.76843347,  0.0853815 ,\n",
       "        1.2174769 ,  0.41425837, -1.01192885,  1.11944629, -0.9771438 ,\n",
       "       -0.44588115,  0.13914022,  0.8917623 ,  0.56288542,  0.13597794,\n",
       "       -0.42374521,  0.52177581, -1.32183206,  1.59695022,  0.94552102,\n",
       "       -2.15351109,  0.35101282,  1.32815662,  1.22696373, -0.73364842,\n",
       "        1.36926623,  0.1834121 , -1.18585412, -0.59134592, -0.64510464,\n",
       "        0.2972541 ,  0.40477154, -0.75262208, -0.29092954,  0.36998649,\n",
       "       -0.21819716, -1.68549399,  1.71079221,  1.2174769 , -0.06640783,\n",
       "        0.2972541 ,  0.12649111, -0.43006976, -0.77475803, -0.29409182,\n",
       "        0.73997297,  0.1834121 , -0.85697725,  0.51228898,  0.14546477,\n",
       "       -1.1320954 , -1.56848972, -1.01192885,  0.88860002,  1.84993243,\n",
       "        0.36366193,  0.17708755,  0.06008328, -1.07201213, -0.96765696,\n",
       "        0.25614449,  0.61664414,  0.53442492, -0.38579787, -0.91073597,\n",
       "       -0.44271887,  0.72099931,  0.63245553, -1.04987618,  1.22063918,\n",
       "        0.07905694, -0.34785054, -0.26563132, -0.36998649,  1.14790679,\n",
       "        0.72416158,  0.35101282, -0.27511816,  2.72272107,  0.27195588,\n",
       "        0.31306549,  0.31306549, -1.89104204, -0.37631104,  1.18585412,\n",
       "       -0.83167902, -0.37314876, -0.89808686,  0.85697725,  1.63489755,\n",
       "        0.6229687 ,  0.84432814, -0.67040286,  1.3028584 ,  2.08710326,\n",
       "        0.12965338, -0.31622777,  0.73681069,  0.64194237,  0.66091603,\n",
       "       -0.27195588,  1.82463421,  0.50596443,  0.7083502 , -1.22063918,\n",
       "       -1.9258271 , -0.55339859, -0.7779203 ,  0.48699076, -0.32887688,\n",
       "       -1.80566054, -0.43639432, -0.04427189,  1.86258154,  0.46485482,\n",
       "       -0.48699076, -1.26807334,  0.28144271, -1.35977939, -2.59939224,\n",
       "        0.43006976,  0.58502137, -0.18024983,  0.37947332,  0.6229687 ,\n",
       "       -1.26174879, -0.07589466, -0.17708755, -0.68937653, -1.03722707,\n",
       "       -1.00244202, -0.46169254, -0.22768399, -0.56288542, -0.78740714,\n",
       "        0.12649111,  1.91634026,  0.75894664,  0.23400855,  0.02213594,\n",
       "        0.78424486,  0.19922349,  1.51156872,  0.46485482, -1.32499434,\n",
       "       -1.64754666, -0.61031959,  0.52493809,  0.27828043,  1.20166551,\n",
       "        0.31306549, -0.9771438 ,  0.18024983,  0.46485482,  0.16760072,\n",
       "        0.75894664, -0.47434165,  1.5431915 , -0.23084627,  0.56920998,\n",
       "        1.28704701, -0.93603419,  0.01264911,  1.68865627,  2.71955879,\n",
       "        0.36049965,  0.62613098,  0.10751744,  0.83800358,  0.59134592,\n",
       "       -0.84432814,  0.46485482,  2.28632675, -1.08466124, -2.13453742,\n",
       "       -0.0853815 ,  0.23717082,  0.45536798,  0.70518792,  0.30041638,\n",
       "        1.19217868,  1.06568757,  0.63561781, -0.29092954, -2.42862924,\n",
       "        0.54707404, -0.62613098, -1.21115234,  1.32183206,  1.44832317,\n",
       "       -0.45536798, -1.67284488,  0.69253881, -0.01897367,  1.89420432,\n",
       "       -1.06884985,  0.8348413 , -0.9202228 , -2.46657657,  0.92654735,\n",
       "        0.23400855,  1.71395449,  1.46413456,  0.39844699,  0.63245553,\n",
       "        0.27511816,  1.08466124,  0.89492458, -1.95744987,  2.12821287,\n",
       "        1.1036349 ,  1.23328829,  1.29020929, -0.06008328,  1.20482779,\n",
       "       -1.55267833, -0.52177581,  0.08854377,  0.11067972, -0.40160926,\n",
       "       -1.28704701, -0.5660477 ,  1.38823989, -0.06324555,  1.45464772,\n",
       "       -0.20871033,  0.10119289,  0.24981994, -0.01264911, -0.28144271,\n",
       "       -1.79617371, -1.53686694,  0.47750393, -0.3541751 , -0.92970963,\n",
       "       -0.47117937, -1.08466124,  0.40793382,  0.10751744,  0.3257146 ,\n",
       "       -0.21819716,  1.56216516, -0.40793382,  0.38579787, -0.46485482,\n",
       "       -0.13281566, -0.3257146 , -0.4110961 , -1.33131889, -0.18024983,\n",
       "       -1.96061215, -2.48871252,  0.53442492, -0.52810037,  0.65775375,\n",
       "        1.63173527, -0.24349538,  0.92970963,  1.08466124, -0.01581139,\n",
       "       -0.15495161,  1.47678367, -1.02774024, -1.6001125 ,  0.45220571,\n",
       "        0.78424486, -0.34152599,  1.01509113, -1.01509113,  0.30674093,\n",
       "       -0.41742065, -0.23400855,  1.67284488,  0.86646408,  2.1376997 ,\n",
       "        0.37947332, -1.38191534,  0.25614449,  2.49819935, -0.8917623 ,\n",
       "        0.72732386, -0.88860002,  0.93919647, -1.44832317,  0.18657438,\n",
       "       -0.31306549,  1.03090252,  0.06957011, -0.6514292 , -0.25614449,\n",
       "        0.57237226,  0.38579787, -0.89808686, -1.17320501, -3.34885204,\n",
       "       -0.51861354,  0.47434165,  0.83167902, -1.58113883, -0.18973666,\n",
       "        0.31622777, -0.87595091,  0.52177581, -0.31622777, -1.20166551,\n",
       "       -1.24277512, -0.58818364, -1.01509113,  1.06884985,  0.07905694,\n",
       "       -0.3541751 , -0.36366193,  0.64194237, -0.22768399,  0.48382848,\n",
       "        0.28776727,  1.11312174, -0.40477154, -1.28388473, -1.09731035,\n",
       "        0.01264911,  0.42690748,  0.36049965,  0.8348413 , -1.7550641 ,\n",
       "       -0.81270536, -0.63561781, -1.91001571,  0.16127616,  3.20022499,\n",
       "       -1.3724285 ,  1.16688046, -1.04987618,  0.9771438 , -0.25614449,\n",
       "        0.71783703, -1.23012601,  1.08149896, -0.25930677,  0.24349538,\n",
       "        0.36998649, -0.2972541 , -0.09170605,  0.113842  , -0.77475803,\n",
       "       -0.60083276, -0.99927974,  1.24277512,  1.39140217, -0.40477154,\n",
       "       -1.0751744 , -1.24909968, -0.04110961, -1.17636729,  0.18973666,\n",
       "       -1.81514738,  0.19289894, -0.87595091,  0.15811388, -0.2972541 ,\n",
       "        0.36682421, -0.69886336, -0.12649111,  1.75190182,  0.99611746,\n",
       "       -1.26491106,  0.88860002, -1.78984916, -0.58185909,  0.34785054,\n",
       "        0.34468826, -0.056921  , -0.6229687 ,  1.10995946, -0.5375872 ,\n",
       "        0.39212243, -1.23012601, -1.09731035,  0.93287191,  0.13914022,\n",
       "       -0.25298221,  2.12505059,  0.10435516, -1.79617371,  0.18657438,\n",
       "       -0.62929325, -0.49015304, -0.11067972,  0.12965338, -0.15811388,\n",
       "        0.85381497, -0.52177581,  0.62613098,  0.66407831,  0.        ,\n",
       "       -0.10751744,  0.05375872,  0.81270536,  0.2972541 ,  0.42058293,\n",
       "        1.400889  ,  2.36222141, -0.11700427,  0.        , -0.73681069,\n",
       "        1.26491106,  1.16688046,  1.15106907,  0.48699076, -0.61980642,\n",
       "       -0.9486833 ,  0.88860002,  0.65775375,  0.35101282,  0.42690748,\n",
       "       -0.18973666,  0.2687936 ,  0.68937653, -0.61664414, -2.20410753,\n",
       "        0.69886336, -0.43639432, -1.12577085,  0.10751744,  0.09170605,\n",
       "       -1.66335805,  0.80321853,  1.2174769 , -2.19145842,  0.17392527,\n",
       "        0.81270536,  0.41742065,  1.09098579,  0.43955659,  0.33203915,\n",
       "        0.26563132, -1.41353811, -0.09170605, -0.14862705, -0.73997297])"
      ]
     },
     "execution_count": 111,
     "metadata": {},
     "output_type": "execute_result"
    }
   ],
   "source": [
    "za = np.sqrt(1000) * (mu - dMeans)/(std)\n",
    "za"
   ]
  },
  {
   "cell_type": "code",
   "execution_count": 107,
   "metadata": {
    "collapsed": false
   },
   "outputs": [
    {
     "data": {
      "text/plain": [
       "<matplotlib.text.Text at 0x7f25a01adc50>"
      ]
     },
     "execution_count": 107,
     "metadata": {},
     "output_type": "execute_result"
    },
    {
     "data": {
      "image/png": "[encoded data removed]",
      "text/plain": [
       "<matplotlib.figure.Figure at 0x7f25a008ba50>"
      ]
     },
     "metadata": {},
     "output_type": "display_data"
    }
   ],
   "source": [
    "pl.hist(dist_poisson)\n",
    "pl.title('Sample of a Poisson Distribution',fontsize = 10)\n",
    "pl.xlabel('Samples', fontsize = 10)\n",
    "pl.ylabel('Frequency',fontsize=10)"
   ]
  },
  {
   "cell_type": "code",
   "execution_count": 108,
   "metadata": {
    "collapsed": false
   },
   "outputs": [
    {
     "data": {
      "text/plain": [
       "<matplotlib.text.Text at 0x7f25a00dca50>"
      ]
     },
     "execution_count": 108,
     "metadata": {},
     "output_type": "execute_result"
    },
    {
     "data": {
      "image/png": "[encoded data removed]",
      "text/plain": [
       "<matplotlib.figure.Figure at 0x7f259ffd3e10>"
      ]
     },
     "metadata": {},
     "output_type": "display_data"
    }
   ],
   "source": [
    "pl.hist(za)\n",
    "pl.title('Z Score Table', fontsize =10)\n",
    "pl.xlabel('z score',fontsize=10)\n",
    "pl.ylabel('frequency',fontsize=10)"
   ]
  },
  {
   "cell_type": "markdown",
   "metadata": {
    "collapsed": true
   },
   "source": [
    "## Null Hypothesis: Show that the distribution of z -statistics that you calculated (one for each sample) is indeed consistent with N(0,1)."
   ]
  },
  {
   "cell_type": "markdown",
   "metadata": {},
   "source": [
    "significance level = 0.05"
   ]
  },
  {
   "cell_type": "code",
   "execution_count": 114,
   "metadata": {
    "collapsed": false
   },
   "outputs": [
    {
     "name": "stdout",
     "output_type": "stream",
     "text": [
      "KstestResult(statistic=0.032455302802232744, pvalue=0.23806474899137342)\n"
     ]
    }
   ],
   "source": [
    "ks = st.kstest(za, 'norm')\n",
    "print( ks)"
   ]
  },
  {
   "cell_type": "code",
   "execution_count": 115,
   "metadata": {
    "collapsed": false
   },
   "outputs": [
    {
     "name": "stdout",
     "output_type": "stream",
     "text": [
      "AndersonResult(statistic=0.54006192721772095, critical_values=array([ 0.574,  0.653,  0.784,  0.914,  1.088]), significance_level=array([ 15. ,  10. ,   5. ,   2.5,   1. ]))\n"
     ]
    }
   ],
   "source": [
    "ad = st.anderson(za,'norm')\n",
    "print(ad)"
   ]
  },
  {
   "cell_type": "markdown",
   "metadata": {},
   "source": [
    "ks: p-value is higher than the significance level, we cannot reject the null hypothesis, the Poisson distribution is consistent with a Gaussian distribution"
   ]
  },
  {
   "cell_type": "markdown",
   "metadata": {},
   "source": [
    "ad: statistic is smaller than the critical value, again we cannot reject the null hypothesis"
   ]
  },
  {
   "cell_type": "code",
   "execution_count": null,
   "metadata": {
    "collapsed": true
   },
   "outputs": [],
   "source": []
  }
 ],
 "metadata": {
  "kernelspec": {
   "display_name": "PUI2016_Python2",
   "language": "python",
   "name": "pui2016_python2"
  },
  "language_info": {
   "codemirror_mode": {
    "name": "ipython",
    "version": 2
   },
   "file_extension": ".py",
   "mimetype": "text/x-python",
   "name": "python",
   "nbconvert_exporter": "python",
   "pygments_lexer": "ipython2",
   "version": "2.7.12"
  }
 },
 "nbformat": 4,
 "nbformat_minor": 0
}
